{
 "cells": [
  {
   "cell_type": "markdown",
   "metadata": {},
   "source": [
    "\n",
    "¡Hola!\n",
    "\n",
    "Mi nombre es Tonatiuh Cruz. Me complace revisar tu proyecto hoy.\n",
    "\n",
    "Al identificar cualquier error inicialmente, simplemente los destacaré. Te animo a localizar y abordar los problemas de forma independiente como parte de tu preparación para un rol como data-scientist. En un entorno profesional, tu líder de equipo seguiría un enfoque similar. Si encuentras la tarea desafiante, proporcionaré una pista más específica en la próxima iteración.\n",
    "\n",
    "Encontrarás mis comentarios a continuación - **por favor no los muevas, modifiques o elimines**.\n",
    "\n",
    "Puedes encontrar mis comentarios en cajas verdes, amarillas o rojas como esta:\n",
    "\n",
    "<div class=\"alert alert-block alert-success\">\n",
    "<b>Comentario del revisor</b> <a class=\"tocSkip\"></a>\n",
    "\n",
    "Éxito. Todo está hecho correctamente.\n",
    "</div>\n",
    "\n",
    "<div class=\"alert alert-block alert-warning\">\n",
    "<b>Comentario del revisor</b> <a class=\"tocSkip\"></a>\n",
    "\n",
    "Observaciones. Algunas recomendaciones.\n",
    "</div>\n",
    "\n",
    "<div class=\"alert alert-block alert-danger\">\n",
    "<b>Comentario del revisor</b> <a class=\"tocSkip\"></a>\n",
    "\n",
    "Necesita corrección. El bloque requiere algunas correcciones. El trabajo no puede ser aceptado con comentarios en rojo.\n",
    "</div>\n",
    "\n",
    "Puedes responderme utilizando esto:\n",
    "\n",
    "<div class=\"alert alert-block alert-info\">\n",
    "<b>Respuesta del estudiante.</b> <a class=\"tocSkip\"></a>"
   ]
  },
  {
   "cell_type": "markdown",
   "metadata": {},
   "source": [
    "# Tabla de Contenido <a id=\"back\"></a> \n",
    "* [1. Descripción del proyecto](#descripcion-del-proyecto) \n",
    "* [2. Introducción](#introduccion) \n",
    "* [3. Exploración de datos](#exploracion-de-datos) \n",
    "  * [3.1. Importación de librerías](#importacion-de-librerias) \n",
    "  * [3.2. Lectura de datos](#lectura-de-datos) \n",
    "  * [3.3. Exploración del primer dataframe](#exploracion-del-primer-dataframe) \n",
    "  * [3.4. Exploración del segundo dataframe](#exploracion-del-segundo-dataframe) \n",
    "  * [3.5. Exploración del tercer dataframe](#exploracion-del-tercer-dataframe) \n",
    "  * [3.6. Conclusiones](#conclusiones) \n",
    "* [4. Preparación de datos](#preparacion-de-datos) \n",
    "  * [4.1. Valores duplicados](#valores-duplicados) \n",
    "    * [4.1.1. Valores duplicados en el primer dataframe](#valores-duplicados-en-el-primer-dataframe) \n",
    "    * [4.1.2. Valores duplicados en el segundo dataframe](#valores-duplicados-en-el-segundo-dataframe) \n",
    "    * [4.1.3. Valores duplicados en el tercer dataframe](#valores-duplicados-en-el-tercer-dataframe) \n",
    "  * [4.2. Valores Nulos](#valores-nulos) \n",
    "    * [4.2.1. Valores nulos en el primer dataframe](#valores-nulos-en-el-primer-dataframe) \n",
    "    * [4.2.2. Valores nulos en el segundo dataframe](#valores-nulos-en-el-segundo-dataframe) \n",
    "    * [4.2.3. Valores nulos en el tercer dataframe](#valores-nulos-en-el-tercer-dataframe) \n",
    "  * [4.3. Cambio del tipo de valores en columnas en el segundo dataframe](#cambio-del-tipo-de-valores-en-columnas-en-el-segundo-dataframe) \n",
    "    * [4.3.1. Transformación de la columna 'average_trips' de float a int](#transformacion-de-la-columna-average_trips-de-float-a-int) \n",
    "  * [4.4. Cambio del tipo de valores en columnas en el tercer dataframe](#cambio-del-tipo-de-valores-en-columnas-en-el-tercer-dataframe) \n",
    "    * [4.4.1. Transformación de la columna 'start_ts' de object a datetime](#transformacion-de-la-columna-start_ts-de-object-a-datetime) \\\n",
    "    * [4.4.2. Transformación de la columna 'duration_seconds' de float a int](#transformacion-de-la-columna-duration_seconds-de-float-a-int) \n",
    "  * [4.5. Conclusiones](#conclusiones-1) \n",
    "* [5. Análisis de datos](#analisis-de-datos) \n",
    "  * [5.1. Identificar los 10 principales barrios en términos de finalización del recorrido](#identificar-los-10-principales-barrios-en-terminos-de-finalizacion-del-recorrido) \n",
    "    * [5.1.1. Gráfico de los 10 barrios principales por número de finalizaciones](#grafico-de-los-10-barrios-principales-por-numero-de-finalizaciones) \n",
    "    * [5.1.2. Conclusiones](#conclusiones-2) \n",
    "  * [5.2. Identificar las 10 principales empresas con la mayor cuenta de viajes realizados](#identificar-las-10-principales-empresas-con-la-mayor-cuenta-de-viajes-realizados) \n",
    "    * [5.2.1. Gráfico de las empresas con mayor cantidad de viajes realizados](#grafico-de-las-empresas-con-mayor-cantidad-de-viajes-realizados) \n",
    "    * [5.2.2. Conclusiones](#conclusiones-3) \n",
    "* [6. Prueba de hipótesis](#prueba-de-hipotesis) \n",
    "* [7. Conclusión general](#conclusion-general) \\\n",
    "[Final](#fin)"
   ]
  },
  {
   "cell_type": "markdown",
   "metadata": {},
   "source": [
    "## Descripción del proyecto <a id=\"descripcion-del-proyecto\"></a>\n",
    "Estás trabajando como analista para Zuber, una nueva empresa de viajes compartidos que se está lanzando en Chicago. Tu tarea es encontrar patrones en la información disponible. Quieres comprender las preferencias de los pasajeros y el impacto de los factores externos en los viajes.\n",
    "\n",
    "Al trabajar con una base de datos, analizarás los datos de los competidores y probarás una hipótesis sobre el impacto del clima en la frecuencia de los viajes."
   ]
  },
  {
   "cell_type": "markdown",
   "metadata": {},
   "source": [
    "## Introducción <a id=\"introduccion\"></a>"
   ]
  },
  {
   "cell_type": "markdown",
   "metadata": {},
   "source": [
    "Para poder llevar acabo nuestro objetivo principal que es analisar patrones con la información disponible para comprender como los factores externos como el clima, impacta en las preferencias de los pasajeros para el año 2017 y mes de noviembre. Debemos iniciar con la importación de librerias para poder explorar los datos que disponemos, buscando que los valores sean los adecuados para las columnas, buscando valores duplicados, nulos y de ser necesario crear nuevas variables a partir de los datos para poder profundisar en el analisis.\n",
    "Una vez que terminamos con la corrección de nuestros datos podemos empezar con el análisis de nuestros datos agrupando variables para poder crear gráficas, al igual que podemos filtrar información para obtener información más precisa sobre nuestras variables. Después de analizar nuestros datos podremos obtener conclusiones útiles que nos permitan alcanzar nuestro objetivo."
   ]
  },
  {
   "cell_type": "markdown",
   "metadata": {},
   "source": [
    "## Exploración de datos <a id=\"exploracion-de-datos\"></a>"
   ]
  },
  {
   "cell_type": "markdown",
   "metadata": {},
   "source": [
    "Para comenzar con la exploración de datos debemos identificar cómo han sido recopilados los datos y de ser necesario cambiar valores en las respectivas columnas, tratar los valores ausentes o duplicados, para poder abrir nuestro archivo debemos importar la librería de pandas para poder mostrar la información y observar cómo esta estructurado el dataframe. "
   ]
  },
  {
   "cell_type": "markdown",
   "metadata": {},
   "source": [
    "<div class=\"alert alert-block alert-success\">\n",
    "\n",
    "<b>Comentario del revisor</b> <a class=\"tocSkip\"></a>\n",
    "\n",
    "\n",
    "Excelente trabajo agregando una introducción al proyecto donde se especifiquen claramente los objetivos y se explique el propósito del mismo. Es esencial hacer esto para establecer las bases del proyecto y aclarar lo que buscamos alcanzar. Con la introducción, queda de manera clarar el análisis que desarrollaremos en el proyecto y cómo lo pretendemos abordar.</div>"
   ]
  },
  {
   "cell_type": "markdown",
   "metadata": {},
   "source": [
    "### Importación de librerias <a id=\"importacion-de-librerias\"></a>"
   ]
  },
  {
   "cell_type": "code",
   "execution_count": 1,
   "metadata": {},
   "outputs": [],
   "source": [
    "# Importamos las librerias necesarias para nuestro análisi\n",
    "\n",
    "import pandas as pd\n",
    "import numpy as np\n",
    "import matplotlib.pyplot as plt\n",
    "import seaborn as sns\n",
    "from scipy.stats import ttest_ind\n",
    "from scipy.stats import norm\n",
    "from scipy import stats as st"
   ]
  },
  {
   "cell_type": "markdown",
   "metadata": {},
   "source": [
    "### Lectura de datos <a id=\"lectura-de-datos\"></a>"
   ]
  },
  {
   "cell_type": "code",
   "execution_count": 2,
   "metadata": {},
   "outputs": [],
   "source": [
    "# Leemos los datasets\n",
    "\n",
    "df_sql_1 = pd.read_csv('/datasets/project_sql_result_01.csv')\n",
    "df_sql_2 = pd.read_csv('/datasets/project_sql_result_04.csv')\n",
    "df_sql_3 = pd.read_csv('/datasets/project_sql_result_07.csv')"
   ]
  },
  {
   "cell_type": "markdown",
   "metadata": {},
   "source": [
    "<div class=\"alert alert-block alert-success\">\n",
    "<b>Comentario del revisor:</b> <a class=\"tocSkip\"></a>\n",
    "    \n",
    "Has realizado un excelente trabajo al importar los datos y las bibliotecas necesarias.\n",
    "\n",
    "</div>"
   ]
  },
  {
   "cell_type": "markdown",
   "metadata": {},
   "source": [
    "### Exploración del primer dataframe <a id=\"exploracion-del-primer-dataframe\"></a>"
   ]
  },
  {
   "cell_type": "code",
   "execution_count": 3,
   "metadata": {},
   "outputs": [
    {
     "name": "stdout",
     "output_type": "stream",
     "text": [
      "<class 'pandas.core.frame.DataFrame'>\n",
      "RangeIndex: 64 entries, 0 to 63\n",
      "Data columns (total 2 columns):\n",
      " #   Column        Non-Null Count  Dtype \n",
      "---  ------        --------------  ----- \n",
      " 0   company_name  64 non-null     object\n",
      " 1   trips_amount  64 non-null     int64 \n",
      "dtypes: int64(1), object(1)\n",
      "memory usage: 1.1+ KB\n"
     ]
    }
   ],
   "source": [
    "# Mostramos la información básica del primer dataframe\n",
    "\n",
    "df_sql_1.info()"
   ]
  },
  {
   "cell_type": "code",
   "execution_count": 4,
   "metadata": {},
   "outputs": [
    {
     "data": {
      "text/html": [
       "<div>\n",
       "<style scoped>\n",
       "    .dataframe tbody tr th:only-of-type {\n",
       "        vertical-align: middle;\n",
       "    }\n",
       "\n",
       "    .dataframe tbody tr th {\n",
       "        vertical-align: top;\n",
       "    }\n",
       "\n",
       "    .dataframe thead th {\n",
       "        text-align: right;\n",
       "    }\n",
       "</style>\n",
       "<table border=\"1\" class=\"dataframe\">\n",
       "  <thead>\n",
       "    <tr style=\"text-align: right;\">\n",
       "      <th></th>\n",
       "      <th>company_name</th>\n",
       "      <th>trips_amount</th>\n",
       "    </tr>\n",
       "  </thead>\n",
       "  <tbody>\n",
       "    <tr>\n",
       "      <th>0</th>\n",
       "      <td>Flash Cab</td>\n",
       "      <td>19558</td>\n",
       "    </tr>\n",
       "    <tr>\n",
       "      <th>1</th>\n",
       "      <td>Taxi Affiliation Services</td>\n",
       "      <td>11422</td>\n",
       "    </tr>\n",
       "    <tr>\n",
       "      <th>2</th>\n",
       "      <td>Medallion Leasing</td>\n",
       "      <td>10367</td>\n",
       "    </tr>\n",
       "    <tr>\n",
       "      <th>3</th>\n",
       "      <td>Yellow Cab</td>\n",
       "      <td>9888</td>\n",
       "    </tr>\n",
       "    <tr>\n",
       "      <th>4</th>\n",
       "      <td>Taxi Affiliation Service Yellow</td>\n",
       "      <td>9299</td>\n",
       "    </tr>\n",
       "  </tbody>\n",
       "</table>\n",
       "</div>"
      ],
      "text/plain": [
       "                      company_name  trips_amount\n",
       "0                        Flash Cab         19558\n",
       "1        Taxi Affiliation Services         11422\n",
       "2                Medallion Leasing         10367\n",
       "3                       Yellow Cab          9888\n",
       "4  Taxi Affiliation Service Yellow          9299"
      ]
     },
     "execution_count": 4,
     "metadata": {},
     "output_type": "execute_result"
    }
   ],
   "source": [
    "# Mostramos las primeras filas para conocer la estructura del dataframe\n",
    "\n",
    "df_sql_1.head()"
   ]
  },
  {
   "cell_type": "markdown",
   "metadata": {},
   "source": [
    "### Exploración del segundo dataframe <a id=\"exploracion-del-segundo-dataframe\"></a>"
   ]
  },
  {
   "cell_type": "code",
   "execution_count": 5,
   "metadata": {},
   "outputs": [
    {
     "name": "stdout",
     "output_type": "stream",
     "text": [
      "<class 'pandas.core.frame.DataFrame'>\n",
      "RangeIndex: 94 entries, 0 to 93\n",
      "Data columns (total 2 columns):\n",
      " #   Column                 Non-Null Count  Dtype  \n",
      "---  ------                 --------------  -----  \n",
      " 0   dropoff_location_name  94 non-null     object \n",
      " 1   average_trips          94 non-null     float64\n",
      "dtypes: float64(1), object(1)\n",
      "memory usage: 1.6+ KB\n"
     ]
    }
   ],
   "source": [
    "# Mostramos la información básica del segundo dataframe\n",
    "\n",
    "df_sql_2.info()"
   ]
  },
  {
   "cell_type": "code",
   "execution_count": 6,
   "metadata": {},
   "outputs": [
    {
     "data": {
      "text/html": [
       "<div>\n",
       "<style scoped>\n",
       "    .dataframe tbody tr th:only-of-type {\n",
       "        vertical-align: middle;\n",
       "    }\n",
       "\n",
       "    .dataframe tbody tr th {\n",
       "        vertical-align: top;\n",
       "    }\n",
       "\n",
       "    .dataframe thead th {\n",
       "        text-align: right;\n",
       "    }\n",
       "</style>\n",
       "<table border=\"1\" class=\"dataframe\">\n",
       "  <thead>\n",
       "    <tr style=\"text-align: right;\">\n",
       "      <th></th>\n",
       "      <th>dropoff_location_name</th>\n",
       "      <th>average_trips</th>\n",
       "    </tr>\n",
       "  </thead>\n",
       "  <tbody>\n",
       "    <tr>\n",
       "      <th>0</th>\n",
       "      <td>Loop</td>\n",
       "      <td>10727.466667</td>\n",
       "    </tr>\n",
       "    <tr>\n",
       "      <th>1</th>\n",
       "      <td>River North</td>\n",
       "      <td>9523.666667</td>\n",
       "    </tr>\n",
       "    <tr>\n",
       "      <th>2</th>\n",
       "      <td>Streeterville</td>\n",
       "      <td>6664.666667</td>\n",
       "    </tr>\n",
       "    <tr>\n",
       "      <th>3</th>\n",
       "      <td>West Loop</td>\n",
       "      <td>5163.666667</td>\n",
       "    </tr>\n",
       "    <tr>\n",
       "      <th>4</th>\n",
       "      <td>O'Hare</td>\n",
       "      <td>2546.900000</td>\n",
       "    </tr>\n",
       "  </tbody>\n",
       "</table>\n",
       "</div>"
      ],
      "text/plain": [
       "  dropoff_location_name  average_trips\n",
       "0                  Loop   10727.466667\n",
       "1           River North    9523.666667\n",
       "2         Streeterville    6664.666667\n",
       "3             West Loop    5163.666667\n",
       "4                O'Hare    2546.900000"
      ]
     },
     "execution_count": 6,
     "metadata": {},
     "output_type": "execute_result"
    }
   ],
   "source": [
    "# Mostramos las primeras filas para conocer la estructura del dataframe\n",
    "\n",
    "df_sql_2.head()"
   ]
  },
  {
   "cell_type": "markdown",
   "metadata": {},
   "source": [
    "### Exploración del tercer dataframe <a id=\"exploracion-del-tercer-dataframe\"></a>"
   ]
  },
  {
   "cell_type": "code",
   "execution_count": 7,
   "metadata": {},
   "outputs": [
    {
     "name": "stdout",
     "output_type": "stream",
     "text": [
      "<class 'pandas.core.frame.DataFrame'>\n",
      "RangeIndex: 1068 entries, 0 to 1067\n",
      "Data columns (total 3 columns):\n",
      " #   Column              Non-Null Count  Dtype  \n",
      "---  ------              --------------  -----  \n",
      " 0   start_ts            1068 non-null   object \n",
      " 1   weather_conditions  1068 non-null   object \n",
      " 2   duration_seconds    1068 non-null   float64\n",
      "dtypes: float64(1), object(2)\n",
      "memory usage: 25.2+ KB\n"
     ]
    }
   ],
   "source": [
    "# Mostramos la información básica del tercer dataframe\n",
    "\n",
    "df_sql_3.info()"
   ]
  },
  {
   "cell_type": "code",
   "execution_count": 8,
   "metadata": {},
   "outputs": [
    {
     "data": {
      "text/html": [
       "<div>\n",
       "<style scoped>\n",
       "    .dataframe tbody tr th:only-of-type {\n",
       "        vertical-align: middle;\n",
       "    }\n",
       "\n",
       "    .dataframe tbody tr th {\n",
       "        vertical-align: top;\n",
       "    }\n",
       "\n",
       "    .dataframe thead th {\n",
       "        text-align: right;\n",
       "    }\n",
       "</style>\n",
       "<table border=\"1\" class=\"dataframe\">\n",
       "  <thead>\n",
       "    <tr style=\"text-align: right;\">\n",
       "      <th></th>\n",
       "      <th>start_ts</th>\n",
       "      <th>weather_conditions</th>\n",
       "      <th>duration_seconds</th>\n",
       "    </tr>\n",
       "  </thead>\n",
       "  <tbody>\n",
       "    <tr>\n",
       "      <th>0</th>\n",
       "      <td>2017-11-25 16:00:00</td>\n",
       "      <td>Good</td>\n",
       "      <td>2410.0</td>\n",
       "    </tr>\n",
       "    <tr>\n",
       "      <th>1</th>\n",
       "      <td>2017-11-25 14:00:00</td>\n",
       "      <td>Good</td>\n",
       "      <td>1920.0</td>\n",
       "    </tr>\n",
       "    <tr>\n",
       "      <th>2</th>\n",
       "      <td>2017-11-25 12:00:00</td>\n",
       "      <td>Good</td>\n",
       "      <td>1543.0</td>\n",
       "    </tr>\n",
       "    <tr>\n",
       "      <th>3</th>\n",
       "      <td>2017-11-04 10:00:00</td>\n",
       "      <td>Good</td>\n",
       "      <td>2512.0</td>\n",
       "    </tr>\n",
       "    <tr>\n",
       "      <th>4</th>\n",
       "      <td>2017-11-11 07:00:00</td>\n",
       "      <td>Good</td>\n",
       "      <td>1440.0</td>\n",
       "    </tr>\n",
       "  </tbody>\n",
       "</table>\n",
       "</div>"
      ],
      "text/plain": [
       "              start_ts weather_conditions  duration_seconds\n",
       "0  2017-11-25 16:00:00               Good            2410.0\n",
       "1  2017-11-25 14:00:00               Good            1920.0\n",
       "2  2017-11-25 12:00:00               Good            1543.0\n",
       "3  2017-11-04 10:00:00               Good            2512.0\n",
       "4  2017-11-11 07:00:00               Good            1440.0"
      ]
     },
     "execution_count": 8,
     "metadata": {},
     "output_type": "execute_result"
    }
   ],
   "source": [
    "# Mostramos las primeras filas para conocer la estructura del dataframe\n",
    "\n",
    "df_sql_3.head()"
   ]
  },
  {
   "cell_type": "markdown",
   "metadata": {},
   "source": [
    "### Conclusiones <a id=\"conclusiones\"></a>"
   ]
  },
  {
   "cell_type": "markdown",
   "metadata": {},
   "source": [
    "Tras mostrar los datos, a simple vista no se entraron valores nulos en las columnas,sin embargo se pudo observar que en dos columnas de diferentes dataframe contaban con valores decimales, la primera es en el promedio de viajes completados y la segunda es en la duración en segundos de los viajes que se realizaron, por lo que en la siguiente sección de preparación de datos, se tratarán para darles un formato adecuado a los valores de las columnas para facilitar el análisis. Además en el tercer dataframe los valores de la columna de hora en que empezó el viaje están en tipo object y debe estar en datetime."
   ]
  },
  {
   "cell_type": "markdown",
   "metadata": {},
   "source": [
    "## Preparación de datos <a id=\"preparacion-de-datos\"></a>"
   ]
  },
  {
   "cell_type": "markdown",
   "metadata": {},
   "source": [
    "### Valores duplicados <a id=\"valores-duplicados\"></a>"
   ]
  },
  {
   "cell_type": "markdown",
   "metadata": {},
   "source": [
    "#### Valores duplicados en el primer dataframe <a id=\"valores-duplicados-en-el-primer-dataframe\"></a>"
   ]
  },
  {
   "cell_type": "code",
   "execution_count": 9,
   "metadata": {},
   "outputs": [
    {
     "data": {
      "text/plain": [
       "0"
      ]
     },
     "execution_count": 9,
     "metadata": {},
     "output_type": "execute_result"
    }
   ],
   "source": [
    "# Mostramos los valores duplicados\n",
    "\n",
    "df_sql_1.duplicated().sum()"
   ]
  },
  {
   "cell_type": "markdown",
   "metadata": {},
   "source": [
    "#### Valores duplicados en el segundo dataframe <a id=\"valores-duplicados-en-el-segundo-dataframe\"></a>"
   ]
  },
  {
   "cell_type": "code",
   "execution_count": 10,
   "metadata": {},
   "outputs": [
    {
     "data": {
      "text/plain": [
       "0"
      ]
     },
     "execution_count": 10,
     "metadata": {},
     "output_type": "execute_result"
    }
   ],
   "source": [
    "# Mostramos los valores duplicados\n",
    "\n",
    "df_sql_2.duplicated().sum()"
   ]
  },
  {
   "cell_type": "markdown",
   "metadata": {},
   "source": [
    "#### Valores duplicados en el tercer dataframe <a id=\"valores-duplicados-en-el-tercer-dataframe\"></a>"
   ]
  },
  {
   "cell_type": "code",
   "execution_count": 11,
   "metadata": {},
   "outputs": [
    {
     "data": {
      "text/plain": [
       "197"
      ]
     },
     "execution_count": 11,
     "metadata": {},
     "output_type": "execute_result"
    }
   ],
   "source": [
    "# Mostramos los valores duplicados\n",
    "\n",
    "df_sql_3.duplicated().sum()"
   ]
  },
  {
   "cell_type": "markdown",
   "metadata": {},
   "source": [
    "<div class=\"alert alert-block alert-success\">\n",
    "\n",
    "<b>Comentario del revisor</b> <a class=\"tocSkip\"></a>\n",
    "\n",
    "Muy buen trabajo con el análisis de registros duplicados!.</div>"
   ]
  },
  {
   "cell_type": "code",
   "execution_count": 12,
   "metadata": {},
   "outputs": [
    {
     "data": {
      "text/html": [
       "<div>\n",
       "<style scoped>\n",
       "    .dataframe tbody tr th:only-of-type {\n",
       "        vertical-align: middle;\n",
       "    }\n",
       "\n",
       "    .dataframe tbody tr th {\n",
       "        vertical-align: top;\n",
       "    }\n",
       "\n",
       "    .dataframe thead th {\n",
       "        text-align: right;\n",
       "    }\n",
       "</style>\n",
       "<table border=\"1\" class=\"dataframe\">\n",
       "  <thead>\n",
       "    <tr style=\"text-align: right;\">\n",
       "      <th></th>\n",
       "      <th>start_ts</th>\n",
       "      <th>weather_conditions</th>\n",
       "      <th>duration_seconds</th>\n",
       "    </tr>\n",
       "  </thead>\n",
       "  <tbody>\n",
       "    <tr>\n",
       "      <th>654</th>\n",
       "      <td>2017-11-04 14:00:00</td>\n",
       "      <td>Good</td>\n",
       "      <td>3840.0</td>\n",
       "    </tr>\n",
       "    <tr>\n",
       "      <th>675</th>\n",
       "      <td>2017-11-04 14:00:00</td>\n",
       "      <td>Good</td>\n",
       "      <td>3840.0</td>\n",
       "    </tr>\n",
       "    <tr>\n",
       "      <th>211</th>\n",
       "      <td>2017-11-18 14:00:00</td>\n",
       "      <td>Good</td>\n",
       "      <td>3660.0</td>\n",
       "    </tr>\n",
       "    <tr>\n",
       "      <th>1011</th>\n",
       "      <td>2017-11-18 14:00:00</td>\n",
       "      <td>Good</td>\n",
       "      <td>3660.0</td>\n",
       "    </tr>\n",
       "    <tr>\n",
       "      <th>149</th>\n",
       "      <td>2017-11-18 14:00:00</td>\n",
       "      <td>Good</td>\n",
       "      <td>3540.0</td>\n",
       "    </tr>\n",
       "    <tr>\n",
       "      <th>710</th>\n",
       "      <td>2017-11-18 14:00:00</td>\n",
       "      <td>Good</td>\n",
       "      <td>3540.0</td>\n",
       "    </tr>\n",
       "    <tr>\n",
       "      <th>153</th>\n",
       "      <td>2017-11-04 14:00:00</td>\n",
       "      <td>Good</td>\n",
       "      <td>3480.0</td>\n",
       "    </tr>\n",
       "    <tr>\n",
       "      <th>899</th>\n",
       "      <td>2017-11-04 14:00:00</td>\n",
       "      <td>Good</td>\n",
       "      <td>3480.0</td>\n",
       "    </tr>\n",
       "    <tr>\n",
       "      <th>410</th>\n",
       "      <td>2017-11-04 16:00:00</td>\n",
       "      <td>Bad</td>\n",
       "      <td>3420.0</td>\n",
       "    </tr>\n",
       "    <tr>\n",
       "      <th>694</th>\n",
       "      <td>2017-11-04 16:00:00</td>\n",
       "      <td>Bad</td>\n",
       "      <td>3420.0</td>\n",
       "    </tr>\n",
       "  </tbody>\n",
       "</table>\n",
       "</div>"
      ],
      "text/plain": [
       "                 start_ts weather_conditions  duration_seconds\n",
       "654   2017-11-04 14:00:00               Good            3840.0\n",
       "675   2017-11-04 14:00:00               Good            3840.0\n",
       "211   2017-11-18 14:00:00               Good            3660.0\n",
       "1011  2017-11-18 14:00:00               Good            3660.0\n",
       "149   2017-11-18 14:00:00               Good            3540.0\n",
       "710   2017-11-18 14:00:00               Good            3540.0\n",
       "153   2017-11-04 14:00:00               Good            3480.0\n",
       "899   2017-11-04 14:00:00               Good            3480.0\n",
       "410   2017-11-04 16:00:00                Bad            3420.0\n",
       "694   2017-11-04 16:00:00                Bad            3420.0"
      ]
     },
     "execution_count": 12,
     "metadata": {},
     "output_type": "execute_result"
    }
   ],
   "source": [
    "# Mostramos los todos los valores que se duplicaron\n",
    "duplicados = df_sql_3[df_sql_3.duplicated(keep=False)]\n",
    "\n",
    "# Ordenamos los valores de forma descendente para las columnas de hora de inicio del viaje y la duración del viaje\n",
    "duplicados.sort_values(by=['duration_seconds', 'start_ts'] , ascending=False).head(10)"
   ]
  },
  {
   "cell_type": "markdown",
   "metadata": {},
   "source": [
    "Al buscar valores duplicados nos encontramos con 197 valores, esto lo podemos comprobar por la duración del viaje y la hora en que se realizó el viaje, además de las condiciones del clima, si bien se pueden eliminar los valores duplicados, debemos considerar que no tenemos un número de identificación de avale que realmente son valores duplicados y que los datos con los que contamos son de diferentes compañías competidoras, es posible que se registraron viajes con las tres condiciones de hora de inicio del viaje, condición del clima y tiempo de duración del viaje, por lo que podríamos considerar conservar estos valores."
   ]
  },
  {
   "cell_type": "markdown",
   "metadata": {},
   "source": [
    "### Valores Nulos <a id=\"valores-nulos\"></a>"
   ]
  },
  {
   "cell_type": "markdown",
   "metadata": {},
   "source": [
    "#### Valores nulos en el primer dataframe <a id=\"valores-nulos-en-el-primer-dataframe\"></a>"
   ]
  },
  {
   "cell_type": "code",
   "execution_count": 13,
   "metadata": {},
   "outputs": [
    {
     "data": {
      "text/plain": [
       "company_name    0\n",
       "trips_amount    0\n",
       "dtype: int64"
      ]
     },
     "execution_count": 13,
     "metadata": {},
     "output_type": "execute_result"
    }
   ],
   "source": [
    "# Mostramos los valores nulos\n",
    "\n",
    "df_sql_1.isnull().sum()"
   ]
  },
  {
   "cell_type": "markdown",
   "metadata": {},
   "source": [
    "#### Valores nulos en el segundo dataframe <a id=\"valores-nulos-en-el-segundo-dataframe\"></a>"
   ]
  },
  {
   "cell_type": "code",
   "execution_count": 14,
   "metadata": {},
   "outputs": [
    {
     "data": {
      "text/plain": [
       "dropoff_location_name    0\n",
       "average_trips            0\n",
       "dtype: int64"
      ]
     },
     "execution_count": 14,
     "metadata": {},
     "output_type": "execute_result"
    }
   ],
   "source": [
    "# Mostramos los valores nulos\n",
    "\n",
    "df_sql_2.isnull().sum()"
   ]
  },
  {
   "cell_type": "markdown",
   "metadata": {},
   "source": [
    "#### Valores nulos en el tercer dataframe <a id=\"valores-nulos-en-el-tercer-dataframe\"></a>"
   ]
  },
  {
   "cell_type": "code",
   "execution_count": 15,
   "metadata": {},
   "outputs": [
    {
     "data": {
      "text/plain": [
       "start_ts              0\n",
       "weather_conditions    0\n",
       "duration_seconds      0\n",
       "dtype: int64"
      ]
     },
     "execution_count": 15,
     "metadata": {},
     "output_type": "execute_result"
    }
   ],
   "source": [
    "# Mostramos los valores nulos\n",
    "\n",
    "df_sql_3.isnull().sum()"
   ]
  },
  {
   "cell_type": "markdown",
   "metadata": {},
   "source": [
    "### Cambio del tipo de valores en columnas en el segundo dataframe <a id=\"cambio-del-tipo-de-valores-en-columnas-en-el-segundo-dataframe\"></a>"
   ]
  },
  {
   "cell_type": "markdown",
   "metadata": {},
   "source": [
    "#### Transformacion de la columna 'average_trips' de float a int <a id=\"transformacion-de-la-columna-average_trips-de-float-a-int\"></a>"
   ]
  },
  {
   "cell_type": "code",
   "execution_count": 16,
   "metadata": {},
   "outputs": [
    {
     "name": "stdout",
     "output_type": "stream",
     "text": [
      "<class 'pandas.core.frame.DataFrame'>\n",
      "RangeIndex: 94 entries, 0 to 93\n",
      "Data columns (total 2 columns):\n",
      " #   Column                 Non-Null Count  Dtype \n",
      "---  ------                 --------------  ----- \n",
      " 0   dropoff_location_name  94 non-null     object\n",
      " 1   average_trips          94 non-null     int64 \n",
      "dtypes: int64(1), object(1)\n",
      "memory usage: 1.6+ KB\n",
      "None\n"
     ]
    },
    {
     "data": {
      "text/html": [
       "<div>\n",
       "<style scoped>\n",
       "    .dataframe tbody tr th:only-of-type {\n",
       "        vertical-align: middle;\n",
       "    }\n",
       "\n",
       "    .dataframe tbody tr th {\n",
       "        vertical-align: top;\n",
       "    }\n",
       "\n",
       "    .dataframe thead th {\n",
       "        text-align: right;\n",
       "    }\n",
       "</style>\n",
       "<table border=\"1\" class=\"dataframe\">\n",
       "  <thead>\n",
       "    <tr style=\"text-align: right;\">\n",
       "      <th></th>\n",
       "      <th>dropoff_location_name</th>\n",
       "      <th>average_trips</th>\n",
       "    </tr>\n",
       "  </thead>\n",
       "  <tbody>\n",
       "    <tr>\n",
       "      <th>0</th>\n",
       "      <td>Loop</td>\n",
       "      <td>10727</td>\n",
       "    </tr>\n",
       "    <tr>\n",
       "      <th>1</th>\n",
       "      <td>River North</td>\n",
       "      <td>9523</td>\n",
       "    </tr>\n",
       "    <tr>\n",
       "      <th>2</th>\n",
       "      <td>Streeterville</td>\n",
       "      <td>6664</td>\n",
       "    </tr>\n",
       "    <tr>\n",
       "      <th>3</th>\n",
       "      <td>West Loop</td>\n",
       "      <td>5163</td>\n",
       "    </tr>\n",
       "    <tr>\n",
       "      <th>4</th>\n",
       "      <td>O'Hare</td>\n",
       "      <td>2546</td>\n",
       "    </tr>\n",
       "  </tbody>\n",
       "</table>\n",
       "</div>"
      ],
      "text/plain": [
       "  dropoff_location_name  average_trips\n",
       "0                  Loop          10727\n",
       "1           River North           9523\n",
       "2         Streeterville           6664\n",
       "3             West Loop           5163\n",
       "4                O'Hare           2546"
      ]
     },
     "execution_count": 16,
     "metadata": {},
     "output_type": "execute_result"
    }
   ],
   "source": [
    "# Cambiamos el tipo del valor de la columna\n",
    "df_sql_2['average_trips'] = df_sql_2['average_trips'].astype(int)\n",
    "\n",
    "# Mostramos los cambios realizados\n",
    "print(df_sql_2.info())\n",
    "\n",
    "df_sql_2.head()"
   ]
  },
  {
   "cell_type": "markdown",
   "metadata": {},
   "source": [
    "### Cambio del tipo de valores en columnas en el tercer dataframe <a id=\"cambio-del-tipo-de-valores-en-columnas-en-el-tercer-dataframe\"></a>"
   ]
  },
  {
   "cell_type": "markdown",
   "metadata": {},
   "source": [
    "#### Transformacion de la columna 'start_ts' de object a datetime <a id=\"transformacion-de-la-columna-start_ts-de-object-a-datetime\"></a>"
   ]
  },
  {
   "cell_type": "code",
   "execution_count": 17,
   "metadata": {},
   "outputs": [
    {
     "name": "stdout",
     "output_type": "stream",
     "text": [
      "<class 'pandas.core.frame.DataFrame'>\n",
      "RangeIndex: 1068 entries, 0 to 1067\n",
      "Data columns (total 3 columns):\n",
      " #   Column              Non-Null Count  Dtype         \n",
      "---  ------              --------------  -----         \n",
      " 0   start_ts            1068 non-null   datetime64[ns]\n",
      " 1   weather_conditions  1068 non-null   object        \n",
      " 2   duration_seconds    1068 non-null   float64       \n",
      "dtypes: datetime64[ns](1), float64(1), object(1)\n",
      "memory usage: 25.2+ KB\n",
      "None\n"
     ]
    },
    {
     "data": {
      "text/html": [
       "<div>\n",
       "<style scoped>\n",
       "    .dataframe tbody tr th:only-of-type {\n",
       "        vertical-align: middle;\n",
       "    }\n",
       "\n",
       "    .dataframe tbody tr th {\n",
       "        vertical-align: top;\n",
       "    }\n",
       "\n",
       "    .dataframe thead th {\n",
       "        text-align: right;\n",
       "    }\n",
       "</style>\n",
       "<table border=\"1\" class=\"dataframe\">\n",
       "  <thead>\n",
       "    <tr style=\"text-align: right;\">\n",
       "      <th></th>\n",
       "      <th>start_ts</th>\n",
       "      <th>weather_conditions</th>\n",
       "      <th>duration_seconds</th>\n",
       "    </tr>\n",
       "  </thead>\n",
       "  <tbody>\n",
       "    <tr>\n",
       "      <th>0</th>\n",
       "      <td>2017-11-25 16:00:00</td>\n",
       "      <td>Good</td>\n",
       "      <td>2410.0</td>\n",
       "    </tr>\n",
       "    <tr>\n",
       "      <th>1</th>\n",
       "      <td>2017-11-25 14:00:00</td>\n",
       "      <td>Good</td>\n",
       "      <td>1920.0</td>\n",
       "    </tr>\n",
       "    <tr>\n",
       "      <th>2</th>\n",
       "      <td>2017-11-25 12:00:00</td>\n",
       "      <td>Good</td>\n",
       "      <td>1543.0</td>\n",
       "    </tr>\n",
       "    <tr>\n",
       "      <th>3</th>\n",
       "      <td>2017-11-04 10:00:00</td>\n",
       "      <td>Good</td>\n",
       "      <td>2512.0</td>\n",
       "    </tr>\n",
       "    <tr>\n",
       "      <th>4</th>\n",
       "      <td>2017-11-11 07:00:00</td>\n",
       "      <td>Good</td>\n",
       "      <td>1440.0</td>\n",
       "    </tr>\n",
       "  </tbody>\n",
       "</table>\n",
       "</div>"
      ],
      "text/plain": [
       "             start_ts weather_conditions  duration_seconds\n",
       "0 2017-11-25 16:00:00               Good            2410.0\n",
       "1 2017-11-25 14:00:00               Good            1920.0\n",
       "2 2017-11-25 12:00:00               Good            1543.0\n",
       "3 2017-11-04 10:00:00               Good            2512.0\n",
       "4 2017-11-11 07:00:00               Good            1440.0"
      ]
     },
     "execution_count": 17,
     "metadata": {},
     "output_type": "execute_result"
    }
   ],
   "source": [
    "# Transformamos de object a datetime en la columna 'start_ts'.\n",
    "\n",
    "df_sql_3['start_ts'] = pd.to_datetime(df_sql_3['start_ts'])\n",
    "\n",
    "# Mostramos la informacion\n",
    "print(df_sql_3.info())\n",
    "\n",
    "df_sql_3.head()"
   ]
  },
  {
   "cell_type": "markdown",
   "metadata": {},
   "source": [
    "#### Transformacion de la columna 'duration_seconds' de float a int <a id=\"transformacion-de-la-columna-duration_seconds-de-float-a-int\"></a>"
   ]
  },
  {
   "cell_type": "code",
   "execution_count": 18,
   "metadata": {},
   "outputs": [
    {
     "data": {
      "text/plain": [
       "False    1068\n",
       "Name: duration_seconds, dtype: int64"
      ]
     },
     "execution_count": 18,
     "metadata": {},
     "output_type": "execute_result"
    }
   ],
   "source": [
    "# Comprobamos si hay algun valor después del punto decimal en la columna 'duration_seconds' en sus 1068 valores que contiene.\n",
    "\n",
    "# Nos dara valores boleanos, False si no hay valores después del punto y True si hay.\n",
    "bol = df_sql_3['duration_seconds'] % 1 != 0\n",
    "\n",
    "# Contamos los valores boleanos \n",
    "bol.value_counts()"
   ]
  },
  {
   "cell_type": "markdown",
   "metadata": {},
   "source": [
    "Comprobamos que no hay valores después del punto decimal, procedemos a cambiar el tipo de valores de la tabla de float a int."
   ]
  },
  {
   "cell_type": "code",
   "execution_count": 19,
   "metadata": {
    "scrolled": false
   },
   "outputs": [
    {
     "name": "stdout",
     "output_type": "stream",
     "text": [
      "<class 'pandas.core.frame.DataFrame'>\n",
      "RangeIndex: 1068 entries, 0 to 1067\n",
      "Data columns (total 3 columns):\n",
      " #   Column              Non-Null Count  Dtype         \n",
      "---  ------              --------------  -----         \n",
      " 0   start_ts            1068 non-null   datetime64[ns]\n",
      " 1   weather_conditions  1068 non-null   object        \n",
      " 2   duration_seconds    1068 non-null   int64         \n",
      "dtypes: datetime64[ns](1), int64(1), object(1)\n",
      "memory usage: 25.2+ KB\n",
      "None\n"
     ]
    },
    {
     "data": {
      "text/html": [
       "<div>\n",
       "<style scoped>\n",
       "    .dataframe tbody tr th:only-of-type {\n",
       "        vertical-align: middle;\n",
       "    }\n",
       "\n",
       "    .dataframe tbody tr th {\n",
       "        vertical-align: top;\n",
       "    }\n",
       "\n",
       "    .dataframe thead th {\n",
       "        text-align: right;\n",
       "    }\n",
       "</style>\n",
       "<table border=\"1\" class=\"dataframe\">\n",
       "  <thead>\n",
       "    <tr style=\"text-align: right;\">\n",
       "      <th></th>\n",
       "      <th>start_ts</th>\n",
       "      <th>weather_conditions</th>\n",
       "      <th>duration_seconds</th>\n",
       "    </tr>\n",
       "  </thead>\n",
       "  <tbody>\n",
       "    <tr>\n",
       "      <th>0</th>\n",
       "      <td>2017-11-25 16:00:00</td>\n",
       "      <td>Good</td>\n",
       "      <td>2410</td>\n",
       "    </tr>\n",
       "    <tr>\n",
       "      <th>1</th>\n",
       "      <td>2017-11-25 14:00:00</td>\n",
       "      <td>Good</td>\n",
       "      <td>1920</td>\n",
       "    </tr>\n",
       "    <tr>\n",
       "      <th>2</th>\n",
       "      <td>2017-11-25 12:00:00</td>\n",
       "      <td>Good</td>\n",
       "      <td>1543</td>\n",
       "    </tr>\n",
       "    <tr>\n",
       "      <th>3</th>\n",
       "      <td>2017-11-04 10:00:00</td>\n",
       "      <td>Good</td>\n",
       "      <td>2512</td>\n",
       "    </tr>\n",
       "    <tr>\n",
       "      <th>4</th>\n",
       "      <td>2017-11-11 07:00:00</td>\n",
       "      <td>Good</td>\n",
       "      <td>1440</td>\n",
       "    </tr>\n",
       "  </tbody>\n",
       "</table>\n",
       "</div>"
      ],
      "text/plain": [
       "             start_ts weather_conditions  duration_seconds\n",
       "0 2017-11-25 16:00:00               Good              2410\n",
       "1 2017-11-25 14:00:00               Good              1920\n",
       "2 2017-11-25 12:00:00               Good              1543\n",
       "3 2017-11-04 10:00:00               Good              2512\n",
       "4 2017-11-11 07:00:00               Good              1440"
      ]
     },
     "execution_count": 19,
     "metadata": {},
     "output_type": "execute_result"
    }
   ],
   "source": [
    "# Tranformamos de float a int para la columna\n",
    "\n",
    "df_sql_3['duration_seconds'] = df_sql_3['duration_seconds'].astype(int)\n",
    "\n",
    "# Comprobamos que el cambio del tipo de datos en la columna 'duration_seconds' se haya efectuado.\n",
    "print(df_sql_3.info())\n",
    "\n",
    "df_sql_3.head()"
   ]
  },
  {
   "cell_type": "markdown",
   "metadata": {},
   "source": [
    "### Conclusiones <a id=\"conclusiones-1\"></a>"
   ]
  },
  {
   "cell_type": "markdown",
   "metadata": {},
   "source": [
    "Al preparar los datos no se encontraron valores nulos tanto en columnas y filas de cada uno de los tres dataframe, sin embargo para el tercero si se encontró valores duplicados, aunque debemos considerar que estamos manejando datos de diferentes compañías rivales por lo que es posible que se registraran viajes en el mismo tiempo y duración y condiciones de clima, sin tener más información para saber si estos valores son realmente duplicados podríamos dejar estos datos. Para el segundo y tercer dataframe se cambiaron los valores de algunas columnas con el fin de poder manejar de forma adecuada los valores para su análisis posterior, como los valores decimales del promedio de viajes se cambió a valores enteros al igual que en el tercer dataframe en la columna de duración de viaje se cambió a números enteros, por último se cambió el tipo de datos de este dataframe, de object a datetime para tener los datos por fecha. Una vez corregidos los datos podemos proseguir con el análisis de datos. "
   ]
  },
  {
   "cell_type": "markdown",
   "metadata": {},
   "source": [
    "## Analisis de datos <a id=\"analisis-de-datos\"></a>"
   ]
  },
  {
   "cell_type": "markdown",
   "metadata": {},
   "source": [
    "### Identificar los 10 principales barrios en términos de finalización del recorrido <a id=\"identificar-los-10-principales-barrios-en-terminos-de-finalizacion-del-recorrido\"></a>"
   ]
  },
  {
   "cell_type": "code",
   "execution_count": 20,
   "metadata": {},
   "outputs": [
    {
     "name": "stdout",
     "output_type": "stream",
     "text": [
      "dropoff_location_name\n",
      "Loop                  10727\n",
      "River North            9523\n",
      "Streeterville          6664\n",
      "West Loop              5163\n",
      "O'Hare                 2546\n",
      "Lake View              2420\n",
      "Grant Park             2068\n",
      "Museum Campus          1510\n",
      "Gold Coast             1364\n",
      "Sheffield & DePaul     1259\n",
      "Name: average_trips, dtype: int64\n"
     ]
    }
   ],
   "source": [
    "# Creamos una variable donde agrupamos los barrios donde se terminó los viajes y el promedio de viajes finalizados\n",
    "travel_1 = df_sql_2.groupby('dropoff_location_name')['average_trips'].sum().sort_values(ascending=False)\n",
    "\n",
    "# Mostramos solo los 10 barrios con un mayor promedio de finalizacion de viajes\n",
    "travel_2 = travel_1.head(10)\n",
    "\n",
    "print(travel_2)"
   ]
  },
  {
   "cell_type": "markdown",
   "metadata": {},
   "source": [
    "#### Gráfico de los 10 barrios principales por número de finalizaciones <a id=\"grafico-de-los-10-barrios-principales-por-numero-de-finalizaciones\"></a>"
   ]
  },
  {
   "cell_type": "code",
   "execution_count": 21,
   "metadata": {
    "scrolled": false
   },
   "outputs": [
    {
     "data": {
      "image/png": "[encoded data removed]",
      "text/plain": [
       "<Figure size 1200x600 with 1 Axes>"
      ]
     },
     "metadata": {},
     "output_type": "display_data"
    }
   ],
   "source": [
    "# Mostramos el gráfico\n",
    "travel_2.plot(kind='bar', figsize=(12,6), grid=True)\n",
    "\n",
    "plt.title('Promedio de viajes terminados por barrios de Chicago')\n",
    "plt.xlabel('Barrios')\n",
    "plt.ylabel('Promedio de viajes completados')\n",
    "plt.show()"
   ]
  },
  {
   "cell_type": "markdown",
   "metadata": {},
   "source": [
    "<div class=\"alert alert-block alert-success\">\n",
    "\n",
    "<b>Comentario del revisor</b> <a class=\"tocSkip\"></a>\n",
    "\n",
    "Excelente trabajo con el desarrollo de este análisis y lo complementaste con una gráfica.\n",
    "    </div>"
   ]
  },
  {
   "cell_type": "markdown",
   "metadata": {},
   "source": [
    "#### Conclusiones <a id=\"conclusiones-2\"></a>"
   ]
  },
  {
   "cell_type": "markdown",
   "metadata": {},
   "source": [
    "Como se puede ver en el gráfico el barrio de Chicago que en promedio tiene más viajes terminados es el de Loop, seguido de River North en segundo lugar, Streeterville en tercero, West Loop en cuarto lugar y en quinto el barrio de O´Hare donde se encuentra localizado el aeropuerto, considerando estos barrios como los más comunes en completar los recorridos de 94 barrios registrados en nuestros datos."
   ]
  },
  {
   "cell_type": "markdown",
   "metadata": {},
   "source": [
    "### Identificar las 10 principales empresas con la mayor cuenta de viajes realizados <a id=\"identificar-las-10-principales-empresas-con-la-mayor-cuenta-de-viajes-realizados\"></a>"
   ]
  },
  {
   "cell_type": "code",
   "execution_count": 22,
   "metadata": {},
   "outputs": [
    {
     "data": {
      "text/plain": [
       "company_name\n",
       "Flash Cab                            19558\n",
       "Taxi Affiliation Services            11422\n",
       "Medallion Leasing                    10367\n",
       "Yellow Cab                            9888\n",
       "Taxi Affiliation Service Yellow       9299\n",
       "Chicago Carriage Cab Corp             9181\n",
       "City Service                          8448\n",
       "Sun Taxi                              7701\n",
       "Star North Management LLC             7455\n",
       "Blue Ribbon Taxi Association Inc.     5953\n",
       "Name: trips_amount, dtype: int64"
      ]
     },
     "execution_count": 22,
     "metadata": {},
     "output_type": "execute_result"
    }
   ],
   "source": [
    "# Creamos una variable donde agrupamos las empresas y la cantidad de viajes realizados\n",
    "companies = df_sql_1.groupby('company_name')['trips_amount'].sum().sort_values(ascending=False)\n",
    "\n",
    "# Mostramos las diez principales empresas con una cantidad mayor de viajes\n",
    "companies_trips = companies.head(10)\n",
    "companies_trips"
   ]
  },
  {
   "cell_type": "markdown",
   "metadata": {},
   "source": [
    "#### Gráfico de las empresas con mayor cantidad de viajes realizados <a id=\"grafico-de-las-empresas-con-mayor-cantidad-de-viajes-realizados\"></a>"
   ]
  },
  {
   "cell_type": "code",
   "execution_count": 23,
   "metadata": {
    "scrolled": false
   },
   "outputs": [
    {
     "data": {
      "image/png": "[encoded data removed]",
      "text/plain": [
       "<Figure size 1200x600 with 1 Axes>"
      ]
     },
     "metadata": {},
     "output_type": "display_data"
    }
   ],
   "source": [
    "# Creamos una variable donde agrupamos las empresas y la cantidad de viajes realizados\n",
    "companies_trips.plot(kind='bar', figsize=(12,6), grid=True)\n",
    "\n",
    "plt.title('Cantidad de viajes por compañia')\n",
    "plt.xlabel('Compañias')\n",
    "plt.ylabel('Cantidad de viajes')\n",
    "plt.show()"
   ]
  },
  {
   "cell_type": "markdown",
   "metadata": {},
   "source": [
    "<div class=\"alert alert-block alert-success\">\n",
    "\n",
    "<b>Comentario del revisor</b> <a class=\"tocSkip\"></a>\n",
    "\n",
    "Excelente trabajo con el desarrollo de este análisis, muestras de manera clara cuales son los 10 principales barrios en términos de finalización del recorrido\n",
    "    </div>"
   ]
  },
  {
   "cell_type": "markdown",
   "metadata": {},
   "source": [
    "#### Conclusiones <a id=\"conclusiones-3\"></a>"
   ]
  },
  {
   "cell_type": "markdown",
   "metadata": {},
   "source": [
    "La empresas con mayor cantidad de viajes realizados es 'Flash Cab' con un total de 19,558 viajes realizados, en segundo lugar la empresa 'Taxi Affiliation Services' con 11,422 viajes realizados representando un poco más de la mitad de la primer empresa, en tercer lugar 'Medallion' Leasing con 10,367 y en cuarto lugar 'Yellow Cab' con 9,888 viajes. Los demás lugares tienen menos de la mitad de los viajes realizados por la empresa que está en primer puesto en cantidad de viajes realizados."
   ]
  },
  {
   "cell_type": "markdown",
   "metadata": {},
   "source": [
    "## Prueba de hipótesis <a id=\"prueba-de-hipotesis\"></a>"
   ]
  },
  {
   "cell_type": "markdown",
   "metadata": {},
   "source": [
    "Ahora queremos conocer si el clima puede afectar en la duración promedio en los días sábado de los viajes que se realizan desde el barrio de Loop hasta el Aeropuerto Internacional de Chicago en el barrio de O'Hare. Por lo que realizaremos hipótesis para ponerlas a prueba para conocer si esto es cierto.\n",
    "\n",
    "Hipótesis nula:\n",
    "La duración promedio de los viajes desde el Loop hasta el Aeropuerto Internacional O'Hare es la misma para los días sábados con buen clima o lluviosos.\n",
    "\n",
    "Hipótesis alternativa:\n",
    "La duración promedio de los viajes desde el Loop hasta el Aeropuerto Internacional O'Hare difiere para los días sábados con buen clima o lluviosos.\n",
    "\n",
    "Teniendo esto en cuenta procedemos a poner a prueba nuestras hipótesis."
   ]
  },
  {
   "cell_type": "code",
   "execution_count": 24,
   "metadata": {},
   "outputs": [
    {
     "name": "stdout",
     "output_type": "stream",
     "text": [
      "La varianza en el tiempo de duracion de los viajes para condiciones de clima buenos es de: 576382.009689509\n",
      "La varianza en el tiempo de duracion de los viajes para condiciones de clima malos es de: 520294.086002483\n"
     ]
    }
   ],
   "source": [
    "# Filtramos los datos para días con clima bueno y clima con lluvia, para conocer la duración del viaje en estos climas.\n",
    "good = df_sql_3[df_sql_3['weather_conditions'] == 'Good']['duration_seconds'] # 888 resultados del filtro para buen clima\n",
    "bad = df_sql_3[df_sql_3['weather_conditions'] == 'Bad']['duration_seconds'] # 180 resultados del filtro para mal clima\n",
    "\n",
    "# Calculamos la varianza para nuestras dos variables\n",
    "good_var = good.var()\n",
    "bad_var = bad.var()\n",
    "\n",
    "# Mostramos la varianza para cada condición de clima\n",
    "print('La varianza en el tiempo de duracion de los viajes para condiciones de clima buenos es de:', good_var)\n",
    "print('La varianza en el tiempo de duracion de los viajes para condiciones de clima malos es de:', bad_var)"
   ]
  },
  {
   "cell_type": "code",
   "execution_count": 25,
   "metadata": {},
   "outputs": [
    {
     "name": "stdout",
     "output_type": "stream",
     "text": [
      "LeveneResult(statistic=0.38853489683656073, pvalue=0.5332038671974493)\n",
      "\n"
     ]
    }
   ],
   "source": [
    "# Realizamos una prueba de levene para saber si hay semejansa entre las varianzas\n",
    "result_levene_weather = st.levene(good, bad)\n",
    "print(result_levene_weather)\n",
    "print()"
   ]
  },
  {
   "cell_type": "markdown",
   "metadata": {},
   "source": [
    "<div class=\"alert alert-block alert-success\">\n",
    "<b>Comentario revisor</b> <a class=\"tocSkip\"></a>\n",
    "\n",
    "Excelente trabajo!! Es importante mostrar si se cumplen los supuestos cuandor realizamos pruebas de hipótesis.\n",
    "</div>"
   ]
  },
  {
   "cell_type": "markdown",
   "metadata": {},
   "source": [
    "El valor del estadístico es 0.38853489683656073, lo cual, junto con un valor p de 0.5332038671974493, indica que no hay suficiente evidencia para concluir que las varianzas son diferentes.  Esto significa que no hay suficiente evidencia para rechazar la hipótesis nula de que las varianzas son iguales.\n",
    "\n",
    "Para la prueba de lLvene:\n",
    "\n",
    "Estadístico de Levene: El valor estadístico es relativamente pequeño, lo que sugiere que las varianzas son similares entre los grupos.\n",
    "\n",
    "Valor p: El valor p es mayor que 0.05 (nivel alfa comúnmente utilizado), lo que significa que no hay evidencia suficiente para rechazar la hipótesis nula. En otras palabras, no podemos afirmar que las varianzas sean diferentes entre los grupos.\n",
    "\n",
    "Según los resultados, no hay diferencias significativas en las varianzas entre los grupos que estás comparando. Podemos decir que las varianzas son bastante similares para las dos condiciones de clima, conociendo esto usamos la prueba de st.ttest_ind(equal_var=True)."
   ]
  },
  {
   "cell_type": "code",
   "execution_count": 26,
   "metadata": {},
   "outputs": [
    {
     "name": "stdout",
     "output_type": "stream",
     "text": [
      "p-value: 6.517970327099473e-12\n",
      "Rechazamos la hipotesis nula\n"
     ]
    }
   ],
   "source": [
    "# Prueba t\n",
    "alpha = 0.05\n",
    "\n",
    "# Se considera utilizar 'equal_var=True' ya que la varianza es similar.\n",
    "results = ttest_ind(good, bad, equal_var=True)\n",
    "\n",
    "print('p-value:', results.pvalue)\n",
    "if results.pvalue < alpha:\n",
    "    print('Rechazamos la hipotesis nula')\n",
    "else:\n",
    "    print('No podemos rechazar la hipotesis nula')"
   ]
  },
  {
   "cell_type": "code",
   "execution_count": 27,
   "metadata": {},
   "outputs": [
    {
     "name": "stdout",
     "output_type": "stream",
     "text": [
      "Minutos en promedio que dura el viaje del barrio de Loop al aeropuerto con buen clima: 33.327927927927924\n",
      "Minutos en promedio que dura el viaje del barrio de Loop al aeropuerto con mal clima: 40.45342592592593\n",
      "\n",
      "Diferencia de minutos entre buen tiempo y mal tiempo: 7.125497997998002\n"
     ]
    }
   ],
   "source": [
    "# Filtro anteriormente usado para la condición del clima\n",
    "good = df_sql_3[df_sql_3['weather_conditions'] == 'Good']['duration_seconds']\n",
    "bad = df_sql_3[df_sql_3['weather_conditions'] == 'Bad']['duration_seconds']\n",
    "\n",
    "# Calculamos el promedio del tiempo que se relizan en los viajes con diferentes climas\n",
    "good_mean = good.mean()\n",
    "bad_mean = bad.mean()\n",
    "\n",
    "\n",
    "# Mostramos los minútos en que se tarda en realizar el viaje para los dos climas\n",
    "print('Minutos en promedio que dura el viaje del barrio de Loop al aeropuerto con buen clima:', good_mean / 60)\n",
    "print('Minutos en promedio que dura el viaje del barrio de Loop al aeropuerto con mal clima:', bad_mean / 60)\n",
    "print()\n",
    "# Mostramos la diferencia de diento entre los dos climas\n",
    "print('Diferencia de minutos entre buen tiempo y mal tiempo:', (bad_mean - good_mean) / 60)"
   ]
  },
  {
   "cell_type": "markdown",
   "metadata": {},
   "source": [
    "<div class=\"alert alert-block alert-success\">\n",
    "<b>Comentario revisor</b> <a class=\"tocSkip\"></a>\n",
    "\n",
    "Realizaste de manera perfecta la prueba de hipótesis. \n",
    "</div>"
   ]
  },
  {
   "cell_type": "markdown",
   "metadata": {},
   "source": [
    "Al rechazar la hipótesis nula podemos considerar que hay una diferencia significativa en el tiempo en que se realizan los viajes entre condiciones de clima buenas y malas, tomando en cuenta el promedio del tiempo que se realiza, podemos observar que en días con un buen clima se realizan en promedio 33 minutos en llegar del barrio Loop al aeropuerto, mientras que cuando hay un mal clima en promedio el viaje se efectúa en 40 minutos, siendo una diferencia de 7 minutos en promedio que dura más el viaje hacia el aeropuerto cuando los días tienen un mal clima."
   ]
  },
  {
   "cell_type": "markdown",
   "metadata": {},
   "source": [
    "## Conclusión general <a id=\"conclusion-general\"></a>"
   ]
  },
  {
   "cell_type": "markdown",
   "metadata": {},
   "source": [
    "Iniciamos el proyecto cargando nuestros datasets que contienen información de empresas que han realizado viajes en diferentes barrios de Chicago para el año 2017 del mes de noviembre, para cargar los datos importamos las librerias necesarias para leer los datos y poder explorar su contenido e información, con el fin de verificar que los datos no contengan valores que puedan afectar para su posterior análisis. \n",
    "\n",
    "Al explorar los datos no encontramos valores nulos, sin embargo observamos que en el primer dataframe y el tercer dataframe algunas de sus columnas no contaban con los valores adecuados para su posterior análisis. Conociendo esto pasamos a la siguiente etapa de preparación de de datos, donde buscamos valores nulos y duplicados en las filas, nos encontramos que en el tercer dataframe obtuvimos filas duplicadas, pero se optó conservarlas debido a que no tenemos algún número de identificación que nos permitiera comprobar que esas filas fueran duplicadas, además consideramos que es posible que de todas las empresas que realizaron viajes algunas tuvieran viajes a la misma hora y con una duración promedio similar, ya que trabajamos con un promedio de duración de viaje y no el tiempo exacto registrado. Posteriormente se cambiaron los valores del segundo dataframe para la columna \"average_trips\" ya que sus valores estaban en formato float y los cambiamos a int para tener un manejo más fácil con los datos. Para el tercer dataframe se cambiaron los valores de dos columnas, la primera fue \"start_ts\" que tenía valores object para valores que deberían estar en datetime ya que es la fecha y hora en que empezó el viaje, para la segunda columna \"duration_seconds\" cambiamos los segundos de float a int.\n",
    "\n",
    "Una vez terminada la etapa de preparación de datos proseguimos con la etapa de análisis de datos, donde identificamos los diez principales barrios que donde finalizan los viajes. Los barrios de Chicago que en promedio tiene más viajes terminados es el barrio de Loop, seguido de River North en segundo lugar, Streeterville en tercero, West Loop en cuarto lugar y en quinto el barrio de O´Hare donde se encuentra localizado el Aeropuerto Internacional, considerando estos barrios como los más comunes en completar los recorridos de 94 barrios registrados en nuestros datos. Para visibilizar esta información elaboramos un gráfico de barras para mostrar de forma visual los barrios con más viajes como destino.\n",
    "Además identificamos las diez empresas competidoras con un mayor conteo de viajes realizados, la empresas con mayor cantidad de viajes realizados es 'Flash Cab' con un total de 19,558 viajes realizados, en segundo lugar la empresa 'Taxi Affiliation Services' con 11,422 viajes realizados representando un poco más de la mitad de la primer empresa, en tercer lugar 'Medallion' Leasing con 10,367 y en cuarto lugar 'Yellow Cab' con 9,888 viajes. Los demás lugares tienen menos de la mitad de los viajes realizados por la empresa que está en primer puesto en cantidad de viajes realizados. De igual forma que el análisis anterior, realizamos un gráfico de barras para visibilizar el conteo de los viajes de las empresas competidoras.\n",
    "\n",
    "Finalmente realizamos una prueba de hipótesis para conocer si no existía alguna diferencia en la duración de los viajes realizados los días sábados cuando el clima varía ya sea con buen clima o con un clima lluvioso, al realizar la prueba obtuvimos un valor menor a p=0.05 por lo que rechazamos la hipótesis nula y podemos considerar que si existe diferencia entre la duración del tiempo de viaje en los diferentes climas. Al calcular el promedio de duración de viaje para los diferentes climas, podemos observar que en días con un buen clima se realizan en promedio 33 minutos en llegar del barrio Loop al aeropuerto, mientras que cuando hay un mal clima en promedio de tiempo, el viaje se efectúa en 40 minutos, siendo una diferencia de 7 minutos en promedio que dura más el viaje hacia el aeropuerto cuando los días tienen un mal clima. Por lo que podemos responder a nuestro objetivo principal y decir que los patrones de viaje de los pasajeros se ven afectados con las variaciones de clima, principalmente cuando hay lluvia, esto influye en la duración del viaje ya que es posible que exista inundaciones en el trayecto, accidentes o alguna otra consecuencia que afecte al tráfico de vehículos por lo que la duración en el tiempo del viaje es mayor a los climas donde no hay lluvia. "
   ]
  },
  {
   "cell_type": "markdown",
   "metadata": {},
   "source": [
    "<div class=\"alert alert-block alert-warning\">\n",
    "<b>Comentario revisor</b> <a class=\"tocSkip\"></a>\n",
    "\n",
    "En general, considero que realizaste un excelente trabajo con el proyecto. Lograste limpiar y organizar las bases de datos eficazmente. Además, tu análisis exploratorio fue exhaustivo, presentando resultados relevantes que serán muy útiles para la toma de decisiones. También, desarrollaste las pruebas de hipótesis de manera acertada. Sin embargo, siempre hay espacio para mejorar y quisiera señalar algunos aspectos que podrías considerar:\n",
    "\n",
    "    \n",
    "*  Realizar análisis complementarios eliminando los valores que parecen ser atípicos.    \n",
    "    \n",
    "\n",
    "    \n",
    "</div>"
   ]
  },
  {
   "cell_type": "markdown",
   "metadata": {},
   "source": [
    "Fin <a id=\"fin\"></a>"
   ]
  },
  {
   "cell_type": "markdown",
   "metadata": {},
   "source": [
    "[Volver al inicio](#back)"
   ]
  }
 ],
 "metadata": {
  "ExecuteTimeLog": [
   {
    "duration": 453,
    "start_time": "2024-07-31T06:22:38.736Z"
   },
   {
    "duration": 13,
    "start_time": "2024-07-31T06:24:45.359Z"
   },
   {
    "duration": 18,
    "start_time": "2024-07-31T06:24:53.900Z"
   },
   {
    "duration": 10,
    "start_time": "2024-07-31T06:24:59.100Z"
   },
   {
    "duration": 340,
    "start_time": "2024-07-31T06:31:35.572Z"
   },
   {
    "duration": 437,
    "start_time": "2024-07-31T06:32:02.140Z"
   },
   {
    "duration": 16,
    "start_time": "2024-07-31T06:32:02.580Z"
   },
   {
    "duration": 350,
    "start_time": "2024-07-31T06:32:02.599Z"
   },
   {
    "duration": 0,
    "start_time": "2024-07-31T06:32:02.952Z"
   },
   {
    "duration": 0,
    "start_time": "2024-07-31T06:32:02.954Z"
   },
   {
    "duration": 0,
    "start_time": "2024-07-31T06:32:02.956Z"
   },
   {
    "duration": 458,
    "start_time": "2024-07-31T06:32:14.315Z"
   },
   {
    "duration": 13,
    "start_time": "2024-07-31T06:32:14.777Z"
   },
   {
    "duration": 27,
    "start_time": "2024-07-31T06:32:14.792Z"
   },
   {
    "duration": 13,
    "start_time": "2024-07-31T06:32:14.821Z"
   },
   {
    "duration": 11,
    "start_time": "2024-07-31T06:32:14.839Z"
   },
   {
    "duration": 10,
    "start_time": "2024-07-31T06:32:14.853Z"
   },
   {
    "duration": 14,
    "start_time": "2024-07-31T06:37:07.244Z"
   },
   {
    "duration": 13,
    "start_time": "2024-07-31T06:37:14.765Z"
   },
   {
    "duration": 9,
    "start_time": "2024-07-31T06:37:31.268Z"
   },
   {
    "duration": 340,
    "start_time": "2024-07-31T06:37:47.337Z"
   },
   {
    "duration": 471,
    "start_time": "2024-07-31T06:48:18.398Z"
   },
   {
    "duration": 23,
    "start_time": "2024-07-31T06:48:18.873Z"
   },
   {
    "duration": 22,
    "start_time": "2024-07-31T06:48:18.899Z"
   },
   {
    "duration": 17,
    "start_time": "2024-07-31T06:48:18.924Z"
   },
   {
    "duration": 14,
    "start_time": "2024-07-31T06:48:18.946Z"
   },
   {
    "duration": 48,
    "start_time": "2024-07-31T06:48:18.964Z"
   },
   {
    "duration": 15,
    "start_time": "2024-07-31T06:48:19.016Z"
   },
   {
    "duration": 13,
    "start_time": "2024-07-31T06:48:19.034Z"
   },
   {
    "duration": 14,
    "start_time": "2024-07-31T06:49:54.502Z"
   },
   {
    "duration": 13,
    "start_time": "2024-07-31T06:50:41.413Z"
   },
   {
    "duration": 11,
    "start_time": "2024-07-31T06:56:00.252Z"
   },
   {
    "duration": 344,
    "start_time": "2024-07-31T07:05:26.926Z"
   },
   {
    "duration": 13,
    "start_time": "2024-07-31T07:05:39.032Z"
   },
   {
    "duration": 17,
    "start_time": "2024-07-31T07:05:57.434Z"
   },
   {
    "duration": 5,
    "start_time": "2024-07-31T07:07:58.033Z"
   },
   {
    "duration": 7,
    "start_time": "2024-07-31T07:08:11.412Z"
   },
   {
    "duration": 9,
    "start_time": "2024-07-31T07:18:24.473Z"
   },
   {
    "duration": 9,
    "start_time": "2024-07-31T07:32:04.491Z"
   },
   {
    "duration": 28,
    "start_time": "2024-07-31T07:43:02.905Z"
   },
   {
    "duration": 13,
    "start_time": "2024-07-31T07:45:35.663Z"
   },
   {
    "duration": 25,
    "start_time": "2024-07-31T07:50:07.245Z"
   },
   {
    "duration": 25,
    "start_time": "2024-07-31T07:50:30.733Z"
   },
   {
    "duration": 311,
    "start_time": "2024-07-31T21:40:00.141Z"
   },
   {
    "duration": 4877,
    "start_time": "2024-07-31T21:40:06.054Z"
   },
   {
    "duration": 30,
    "start_time": "2024-07-31T21:40:10.935Z"
   },
   {
    "duration": 17,
    "start_time": "2024-07-31T21:40:10.972Z"
   },
   {
    "duration": 25,
    "start_time": "2024-07-31T21:40:10.992Z"
   },
   {
    "duration": 15,
    "start_time": "2024-07-31T21:40:11.021Z"
   },
   {
    "duration": 10,
    "start_time": "2024-07-31T21:40:11.040Z"
   },
   {
    "duration": 15,
    "start_time": "2024-07-31T21:40:11.053Z"
   },
   {
    "duration": 12,
    "start_time": "2024-07-31T21:40:11.112Z"
   },
   {
    "duration": 15,
    "start_time": "2024-07-31T21:40:11.127Z"
   },
   {
    "duration": 8,
    "start_time": "2024-07-31T21:40:11.145Z"
   },
   {
    "duration": 7,
    "start_time": "2024-07-31T21:40:11.157Z"
   },
   {
    "duration": 408,
    "start_time": "2024-07-31T21:44:41.363Z"
   },
   {
    "duration": 7,
    "start_time": "2024-07-31T21:44:49.321Z"
   },
   {
    "duration": 24,
    "start_time": "2024-07-31T21:45:13.947Z"
   },
   {
    "duration": 4,
    "start_time": "2024-07-31T21:45:46.321Z"
   },
   {
    "duration": 7,
    "start_time": "2024-07-31T21:45:57.836Z"
   },
   {
    "duration": 8,
    "start_time": "2024-07-31T21:46:22.108Z"
   },
   {
    "duration": 391,
    "start_time": "2024-07-31T21:46:41.081Z"
   },
   {
    "duration": 51,
    "start_time": "2024-07-31T21:47:51.081Z"
   },
   {
    "duration": 1231,
    "start_time": "2024-07-31T21:48:59.551Z"
   },
   {
    "duration": 27,
    "start_time": "2024-07-31T21:49:00.786Z"
   },
   {
    "duration": 18,
    "start_time": "2024-07-31T21:49:00.817Z"
   },
   {
    "duration": 14,
    "start_time": "2024-07-31T21:49:00.838Z"
   },
   {
    "duration": 57,
    "start_time": "2024-07-31T21:49:00.857Z"
   },
   {
    "duration": 10,
    "start_time": "2024-07-31T21:49:00.917Z"
   },
   {
    "duration": 14,
    "start_time": "2024-07-31T21:49:00.931Z"
   },
   {
    "duration": 13,
    "start_time": "2024-07-31T21:49:00.948Z"
   },
   {
    "duration": 54,
    "start_time": "2024-07-31T21:49:00.964Z"
   },
   {
    "duration": 7,
    "start_time": "2024-07-31T21:49:01.022Z"
   },
   {
    "duration": 17,
    "start_time": "2024-07-31T21:49:01.032Z"
   },
   {
    "duration": 1254,
    "start_time": "2024-07-31T21:49:36.107Z"
   },
   {
    "duration": 17,
    "start_time": "2024-07-31T21:49:37.364Z"
   },
   {
    "duration": 30,
    "start_time": "2024-07-31T21:49:37.383Z"
   },
   {
    "duration": 14,
    "start_time": "2024-07-31T21:49:37.415Z"
   },
   {
    "duration": 14,
    "start_time": "2024-07-31T21:49:37.433Z"
   },
   {
    "duration": 10,
    "start_time": "2024-07-31T21:49:37.450Z"
   },
   {
    "duration": 57,
    "start_time": "2024-07-31T21:49:37.463Z"
   },
   {
    "duration": 10,
    "start_time": "2024-07-31T21:49:37.524Z"
   },
   {
    "duration": 11,
    "start_time": "2024-07-31T21:49:37.537Z"
   },
   {
    "duration": 1330,
    "start_time": "2024-07-31T21:49:37.550Z"
   },
   {
    "duration": 0,
    "start_time": "2024-07-31T21:49:38.883Z"
   },
   {
    "duration": 1274,
    "start_time": "2024-07-31T21:51:35.692Z"
   },
   {
    "duration": 17,
    "start_time": "2024-07-31T21:51:36.969Z"
   },
   {
    "duration": 26,
    "start_time": "2024-07-31T21:51:36.990Z"
   },
   {
    "duration": 13,
    "start_time": "2024-07-31T21:51:37.021Z"
   },
   {
    "duration": 13,
    "start_time": "2024-07-31T21:51:37.037Z"
   },
   {
    "duration": 10,
    "start_time": "2024-07-31T21:51:37.053Z"
   },
   {
    "duration": 54,
    "start_time": "2024-07-31T21:51:37.066Z"
   },
   {
    "duration": 10,
    "start_time": "2024-07-31T21:51:37.123Z"
   },
   {
    "duration": 11,
    "start_time": "2024-07-31T21:51:37.136Z"
   },
   {
    "duration": 1363,
    "start_time": "2024-07-31T21:51:37.151Z"
   },
   {
    "duration": 0,
    "start_time": "2024-07-31T21:51:38.517Z"
   },
   {
    "duration": 311,
    "start_time": "2024-07-31T21:51:55.771Z"
   },
   {
    "duration": 8,
    "start_time": "2024-07-31T21:52:25.062Z"
   },
   {
    "duration": 1206,
    "start_time": "2024-07-31T21:55:15.567Z"
   },
   {
    "duration": 18,
    "start_time": "2024-07-31T21:55:16.778Z"
   },
   {
    "duration": 29,
    "start_time": "2024-07-31T21:55:16.798Z"
   },
   {
    "duration": 13,
    "start_time": "2024-07-31T21:55:16.831Z"
   },
   {
    "duration": 14,
    "start_time": "2024-07-31T21:55:16.848Z"
   },
   {
    "duration": 48,
    "start_time": "2024-07-31T21:55:16.865Z"
   },
   {
    "duration": 14,
    "start_time": "2024-07-31T21:55:16.916Z"
   },
   {
    "duration": 11,
    "start_time": "2024-07-31T21:55:16.933Z"
   },
   {
    "duration": 12,
    "start_time": "2024-07-31T21:55:16.946Z"
   },
   {
    "duration": 51,
    "start_time": "2024-07-31T21:55:16.961Z"
   },
   {
    "duration": 15,
    "start_time": "2024-07-31T21:55:17.015Z"
   },
   {
    "duration": 18,
    "start_time": "2024-07-31T21:55:17.033Z"
   },
   {
    "duration": 1221,
    "start_time": "2024-07-31T22:32:22.171Z"
   },
   {
    "duration": 32,
    "start_time": "2024-07-31T22:32:23.397Z"
   },
   {
    "duration": 15,
    "start_time": "2024-07-31T22:32:23.431Z"
   },
   {
    "duration": 13,
    "start_time": "2024-07-31T22:32:23.450Z"
   },
   {
    "duration": 14,
    "start_time": "2024-07-31T22:32:23.467Z"
   },
   {
    "duration": 14,
    "start_time": "2024-07-31T22:32:23.512Z"
   },
   {
    "duration": 14,
    "start_time": "2024-07-31T22:32:23.529Z"
   },
   {
    "duration": 10,
    "start_time": "2024-07-31T22:32:23.547Z"
   },
   {
    "duration": 52,
    "start_time": "2024-07-31T22:32:23.560Z"
   },
   {
    "duration": 18,
    "start_time": "2024-07-31T22:32:23.617Z"
   },
   {
    "duration": 14,
    "start_time": "2024-07-31T22:32:23.638Z"
   },
   {
    "duration": 5,
    "start_time": "2024-07-31T22:35:27.087Z"
   },
   {
    "duration": 11,
    "start_time": "2024-07-31T22:35:46.039Z"
   },
   {
    "duration": 21,
    "start_time": "2024-07-31T22:37:21.074Z"
   },
   {
    "duration": 1203,
    "start_time": "2024-08-01T02:12:08.869Z"
   },
   {
    "duration": 19,
    "start_time": "2024-08-01T02:12:10.076Z"
   },
   {
    "duration": 19,
    "start_time": "2024-08-01T02:12:10.100Z"
   },
   {
    "duration": 14,
    "start_time": "2024-08-01T02:12:10.122Z"
   },
   {
    "duration": 13,
    "start_time": "2024-08-01T02:12:10.141Z"
   },
   {
    "duration": 10,
    "start_time": "2024-08-01T02:12:10.157Z"
   },
   {
    "duration": 14,
    "start_time": "2024-08-01T02:12:10.213Z"
   },
   {
    "duration": 11,
    "start_time": "2024-08-01T02:12:10.232Z"
   },
   {
    "duration": 503,
    "start_time": "2024-08-01T02:12:10.246Z"
   },
   {
    "duration": 0,
    "start_time": "2024-08-01T02:12:10.752Z"
   },
   {
    "duration": 0,
    "start_time": "2024-08-01T02:12:10.754Z"
   },
   {
    "duration": 24,
    "start_time": "2024-08-01T02:12:39.262Z"
   },
   {
    "duration": 5,
    "start_time": "2024-08-01T02:25:20.038Z"
   },
   {
    "duration": 326,
    "start_time": "2024-08-01T02:25:31.597Z"
   },
   {
    "duration": 1193,
    "start_time": "2024-08-01T02:26:14.771Z"
   },
   {
    "duration": 20,
    "start_time": "2024-08-01T02:26:15.968Z"
   },
   {
    "duration": 27,
    "start_time": "2024-08-01T02:26:15.991Z"
   },
   {
    "duration": 13,
    "start_time": "2024-08-01T02:26:16.021Z"
   },
   {
    "duration": 14,
    "start_time": "2024-08-01T02:26:16.039Z"
   },
   {
    "duration": 10,
    "start_time": "2024-08-01T02:26:16.055Z"
   },
   {
    "duration": 53,
    "start_time": "2024-08-01T02:26:16.069Z"
   },
   {
    "duration": 10,
    "start_time": "2024-08-01T02:26:16.127Z"
   },
   {
    "duration": 9,
    "start_time": "2024-08-01T02:26:16.140Z"
   },
   {
    "duration": 61,
    "start_time": "2024-08-01T02:26:16.153Z"
   },
   {
    "duration": 10,
    "start_time": "2024-08-01T02:26:16.217Z"
   },
   {
    "duration": 22,
    "start_time": "2024-08-01T02:26:16.231Z"
   },
   {
    "duration": 6,
    "start_time": "2024-08-01T02:26:44.153Z"
   },
   {
    "duration": 759,
    "start_time": "2024-08-01T02:26:56.988Z"
   },
   {
    "duration": 1244,
    "start_time": "2024-08-01T02:27:16.923Z"
   },
   {
    "duration": 16,
    "start_time": "2024-08-01T02:27:18.172Z"
   },
   {
    "duration": 27,
    "start_time": "2024-08-01T02:27:18.192Z"
   },
   {
    "duration": 13,
    "start_time": "2024-08-01T02:27:18.222Z"
   },
   {
    "duration": 13,
    "start_time": "2024-08-01T02:27:18.241Z"
   },
   {
    "duration": 10,
    "start_time": "2024-08-01T02:27:18.257Z"
   },
   {
    "duration": 13,
    "start_time": "2024-08-01T02:27:18.313Z"
   },
   {
    "duration": 10,
    "start_time": "2024-08-01T02:27:18.330Z"
   },
   {
    "duration": 15,
    "start_time": "2024-08-01T02:27:18.343Z"
   },
   {
    "duration": 68,
    "start_time": "2024-08-01T02:27:18.360Z"
   },
   {
    "duration": 13,
    "start_time": "2024-08-01T02:27:18.431Z"
   },
   {
    "duration": 64,
    "start_time": "2024-08-01T02:27:18.448Z"
   },
   {
    "duration": 11,
    "start_time": "2024-08-01T02:27:38.929Z"
   },
   {
    "duration": 19,
    "start_time": "2024-08-01T02:28:02.353Z"
   },
   {
    "duration": 3,
    "start_time": "2024-08-01T02:34:34.045Z"
   },
   {
    "duration": 7,
    "start_time": "2024-08-01T02:36:22.666Z"
   },
   {
    "duration": 8,
    "start_time": "2024-08-01T02:37:11.969Z"
   },
   {
    "duration": 7,
    "start_time": "2024-08-01T02:40:25.338Z"
   },
   {
    "duration": 4,
    "start_time": "2024-08-01T02:40:49.687Z"
   },
   {
    "duration": 8,
    "start_time": "2024-08-01T02:41:50.672Z"
   },
   {
    "duration": 9,
    "start_time": "2024-08-01T02:43:44.905Z"
   },
   {
    "duration": 11,
    "start_time": "2024-08-01T02:44:12.423Z"
   },
   {
    "duration": 9,
    "start_time": "2024-08-01T02:44:44.877Z"
   },
   {
    "duration": 9,
    "start_time": "2024-08-01T02:49:51.287Z"
   },
   {
    "duration": 20,
    "start_time": "2024-08-01T02:52:42.447Z"
   },
   {
    "duration": 13,
    "start_time": "2024-08-01T02:53:14.980Z"
   },
   {
    "duration": 19,
    "start_time": "2024-08-01T02:53:24.224Z"
   },
   {
    "duration": 197,
    "start_time": "2024-08-01T02:54:42.083Z"
   },
   {
    "duration": 21,
    "start_time": "2024-08-01T02:56:54.480Z"
   },
   {
    "duration": 23,
    "start_time": "2024-08-01T03:06:25.141Z"
   },
   {
    "duration": 17,
    "start_time": "2024-08-01T03:21:34.500Z"
   },
   {
    "duration": 1225,
    "start_time": "2024-08-01T03:50:10.841Z"
   },
   {
    "duration": 18,
    "start_time": "2024-08-01T03:50:12.070Z"
   },
   {
    "duration": 26,
    "start_time": "2024-08-01T03:50:12.091Z"
   },
   {
    "duration": 14,
    "start_time": "2024-08-01T03:50:12.120Z"
   },
   {
    "duration": 15,
    "start_time": "2024-08-01T03:50:12.138Z"
   },
   {
    "duration": 56,
    "start_time": "2024-08-01T03:50:12.156Z"
   },
   {
    "duration": 14,
    "start_time": "2024-08-01T03:50:12.216Z"
   },
   {
    "duration": 11,
    "start_time": "2024-08-01T03:50:12.233Z"
   },
   {
    "duration": 7,
    "start_time": "2024-08-01T03:50:12.247Z"
   },
   {
    "duration": 8,
    "start_time": "2024-08-01T03:50:12.258Z"
   },
   {
    "duration": 8,
    "start_time": "2024-08-01T03:50:12.314Z"
   },
   {
    "duration": 16,
    "start_time": "2024-08-01T03:50:12.326Z"
   },
   {
    "duration": 8,
    "start_time": "2024-08-01T03:50:12.345Z"
   },
   {
    "duration": 52,
    "start_time": "2024-08-01T03:50:12.360Z"
   },
   {
    "duration": 9,
    "start_time": "2024-08-01T03:50:12.414Z"
   },
   {
    "duration": 19,
    "start_time": "2024-08-01T03:50:12.427Z"
   },
   {
    "duration": 63,
    "start_time": "2024-08-01T03:50:12.449Z"
   },
   {
    "duration": 10,
    "start_time": "2024-08-01T03:50:12.515Z"
   },
   {
    "duration": 22,
    "start_time": "2024-08-01T03:50:12.528Z"
   },
   {
    "duration": 25,
    "start_time": "2024-08-01T04:19:30.784Z"
   },
   {
    "duration": 19,
    "start_time": "2024-08-01T06:06:35.878Z"
   },
   {
    "duration": 190,
    "start_time": "2024-08-01T06:15:12.356Z"
   },
   {
    "duration": 23,
    "start_time": "2024-08-01T06:15:24.378Z"
   },
   {
    "duration": 288,
    "start_time": "2024-08-01T06:15:35.280Z"
   },
   {
    "duration": 294,
    "start_time": "2024-08-01T06:15:53.221Z"
   },
   {
    "duration": 24,
    "start_time": "2024-08-01T06:21:30.393Z"
   },
   {
    "duration": 732,
    "start_time": "2024-08-01T06:22:24.604Z"
   },
   {
    "duration": 81,
    "start_time": "2024-08-01T06:23:24.899Z"
   },
   {
    "duration": 83,
    "start_time": "2024-08-01T06:25:03.522Z"
   },
   {
    "duration": 1507,
    "start_time": "2024-08-01T06:26:03.608Z"
   },
   {
    "duration": 1512,
    "start_time": "2024-08-01T06:26:59.202Z"
   },
   {
    "duration": 1242,
    "start_time": "2024-08-01T06:27:25.717Z"
   },
   {
    "duration": 16,
    "start_time": "2024-08-01T06:27:26.963Z"
   },
   {
    "duration": 15,
    "start_time": "2024-08-01T06:27:26.982Z"
   },
   {
    "duration": 13,
    "start_time": "2024-08-01T06:27:27.014Z"
   },
   {
    "duration": 13,
    "start_time": "2024-08-01T06:27:27.031Z"
   },
   {
    "duration": 9,
    "start_time": "2024-08-01T06:27:27.048Z"
   },
   {
    "duration": 57,
    "start_time": "2024-08-01T06:27:27.060Z"
   },
   {
    "duration": 11,
    "start_time": "2024-08-01T06:27:27.120Z"
   },
   {
    "duration": 7,
    "start_time": "2024-08-01T06:27:27.134Z"
   },
   {
    "duration": 7,
    "start_time": "2024-08-01T06:27:27.145Z"
   },
   {
    "duration": 56,
    "start_time": "2024-08-01T06:27:27.156Z"
   },
   {
    "duration": 17,
    "start_time": "2024-08-01T06:27:27.215Z"
   },
   {
    "duration": 8,
    "start_time": "2024-08-01T06:27:27.235Z"
   },
   {
    "duration": 7,
    "start_time": "2024-08-01T06:27:27.250Z"
   },
   {
    "duration": 52,
    "start_time": "2024-08-01T06:27:27.261Z"
   },
   {
    "duration": 20,
    "start_time": "2024-08-01T06:27:27.316Z"
   },
   {
    "duration": 25,
    "start_time": "2024-08-01T06:27:27.339Z"
   },
   {
    "duration": 47,
    "start_time": "2024-08-01T06:27:27.367Z"
   },
   {
    "duration": 23,
    "start_time": "2024-08-01T06:27:27.416Z"
   },
   {
    "duration": 1617,
    "start_time": "2024-08-01T06:27:27.442Z"
   },
   {
    "duration": 275,
    "start_time": "2024-08-01T06:27:29.062Z"
   },
   {
    "duration": 6,
    "start_time": "2024-08-01T06:28:35.132Z"
   },
   {
    "duration": 10,
    "start_time": "2024-08-01T06:28:48.397Z"
   },
   {
    "duration": 9,
    "start_time": "2024-08-01T06:29:11.024Z"
   },
   {
    "duration": 10,
    "start_time": "2024-08-01T06:29:20.453Z"
   },
   {
    "duration": 6,
    "start_time": "2024-08-01T06:30:34.934Z"
   },
   {
    "duration": 9,
    "start_time": "2024-08-01T06:30:50.467Z"
   },
   {
    "duration": 10,
    "start_time": "2024-08-01T06:32:26.322Z"
   },
   {
    "duration": 8,
    "start_time": "2024-08-01T06:32:54.349Z"
   },
   {
    "duration": 9,
    "start_time": "2024-08-01T06:32:59.331Z"
   },
   {
    "duration": 10,
    "start_time": "2024-08-01T06:33:36.061Z"
   },
   {
    "duration": 9,
    "start_time": "2024-08-01T06:34:17.192Z"
   },
   {
    "duration": 10,
    "start_time": "2024-08-01T06:34:36.612Z"
   },
   {
    "duration": 258,
    "start_time": "2024-08-01T06:35:27.758Z"
   },
   {
    "duration": 311,
    "start_time": "2024-08-01T06:43:58.401Z"
   },
   {
    "duration": 299,
    "start_time": "2024-08-01T06:44:17.513Z"
   },
   {
    "duration": 323,
    "start_time": "2024-08-01T06:44:33.007Z"
   },
   {
    "duration": 10,
    "start_time": "2024-08-01T06:45:56.080Z"
   },
   {
    "duration": 293,
    "start_time": "2024-08-01T06:46:01.199Z"
   },
   {
    "duration": 14,
    "start_time": "2024-08-01T06:47:18.946Z"
   },
   {
    "duration": 10,
    "start_time": "2024-08-01T06:50:28.472Z"
   },
   {
    "duration": 7,
    "start_time": "2024-08-01T06:52:03.518Z"
   },
   {
    "duration": 10,
    "start_time": "2024-08-01T06:52:14.040Z"
   },
   {
    "duration": 15,
    "start_time": "2024-08-01T06:56:04.770Z"
   },
   {
    "duration": 13,
    "start_time": "2024-08-01T06:57:17.247Z"
   },
   {
    "duration": 9,
    "start_time": "2024-08-01T06:57:51.247Z"
   },
   {
    "duration": 360,
    "start_time": "2024-08-01T07:00:40.097Z"
   },
   {
    "duration": 343,
    "start_time": "2024-08-01T07:00:49.896Z"
   },
   {
    "duration": 12,
    "start_time": "2024-08-01T07:06:44.477Z"
   },
   {
    "duration": 296,
    "start_time": "2024-08-01T07:07:12.241Z"
   },
   {
    "duration": 3,
    "start_time": "2024-08-01T07:17:26.185Z"
   },
   {
    "duration": 14,
    "start_time": "2024-08-01T07:22:05.288Z"
   },
   {
    "duration": 11,
    "start_time": "2024-08-01T07:22:16.991Z"
   },
   {
    "duration": 482,
    "start_time": "2024-08-01T07:43:01.731Z"
   },
   {
    "duration": 30,
    "start_time": "2024-08-01T07:43:10.789Z"
   },
   {
    "duration": 1678,
    "start_time": "2024-08-01T07:43:27.477Z"
   },
   {
    "duration": 0,
    "start_time": "2024-08-01T07:43:29.159Z"
   },
   {
    "duration": 0,
    "start_time": "2024-08-01T07:43:29.161Z"
   },
   {
    "duration": 0,
    "start_time": "2024-08-01T07:43:29.164Z"
   },
   {
    "duration": 0,
    "start_time": "2024-08-01T07:43:29.166Z"
   },
   {
    "duration": 0,
    "start_time": "2024-08-01T07:43:29.168Z"
   },
   {
    "duration": 0,
    "start_time": "2024-08-01T07:43:29.170Z"
   },
   {
    "duration": 0,
    "start_time": "2024-08-01T07:43:29.172Z"
   },
   {
    "duration": 0,
    "start_time": "2024-08-01T07:43:29.175Z"
   },
   {
    "duration": 0,
    "start_time": "2024-08-01T07:43:29.179Z"
   },
   {
    "duration": 0,
    "start_time": "2024-08-01T07:43:29.180Z"
   },
   {
    "duration": 0,
    "start_time": "2024-08-01T07:43:29.182Z"
   },
   {
    "duration": 0,
    "start_time": "2024-08-01T07:43:29.213Z"
   },
   {
    "duration": 0,
    "start_time": "2024-08-01T07:43:29.215Z"
   },
   {
    "duration": 0,
    "start_time": "2024-08-01T07:43:29.217Z"
   },
   {
    "duration": 0,
    "start_time": "2024-08-01T07:43:29.220Z"
   },
   {
    "duration": 0,
    "start_time": "2024-08-01T07:43:29.223Z"
   },
   {
    "duration": 0,
    "start_time": "2024-08-01T07:43:29.225Z"
   },
   {
    "duration": 0,
    "start_time": "2024-08-01T07:43:29.227Z"
   },
   {
    "duration": 0,
    "start_time": "2024-08-01T07:43:29.230Z"
   },
   {
    "duration": 0,
    "start_time": "2024-08-01T07:43:29.233Z"
   },
   {
    "duration": 0,
    "start_time": "2024-08-01T07:43:29.236Z"
   },
   {
    "duration": 0,
    "start_time": "2024-08-01T07:43:29.238Z"
   },
   {
    "duration": 0,
    "start_time": "2024-08-01T07:43:29.240Z"
   },
   {
    "duration": 0,
    "start_time": "2024-08-01T07:43:29.242Z"
   },
   {
    "duration": 1252,
    "start_time": "2024-08-01T07:44:30.720Z"
   },
   {
    "duration": 17,
    "start_time": "2024-08-01T07:44:31.975Z"
   },
   {
    "duration": 25,
    "start_time": "2024-08-01T07:44:31.995Z"
   },
   {
    "duration": 14,
    "start_time": "2024-08-01T07:44:32.024Z"
   },
   {
    "duration": 14,
    "start_time": "2024-08-01T07:44:32.042Z"
   },
   {
    "duration": 9,
    "start_time": "2024-08-01T07:44:32.059Z"
   },
   {
    "duration": 15,
    "start_time": "2024-08-01T07:44:32.112Z"
   },
   {
    "duration": 10,
    "start_time": "2024-08-01T07:44:32.131Z"
   },
   {
    "duration": 7,
    "start_time": "2024-08-01T07:44:32.145Z"
   },
   {
    "duration": 7,
    "start_time": "2024-08-01T07:44:32.160Z"
   },
   {
    "duration": 8,
    "start_time": "2024-08-01T07:44:32.214Z"
   },
   {
    "duration": 18,
    "start_time": "2024-08-01T07:44:32.225Z"
   },
   {
    "duration": 8,
    "start_time": "2024-08-01T07:44:32.246Z"
   },
   {
    "duration": 8,
    "start_time": "2024-08-01T07:44:32.257Z"
   },
   {
    "duration": 9,
    "start_time": "2024-08-01T07:44:32.314Z"
   },
   {
    "duration": 24,
    "start_time": "2024-08-01T07:44:32.326Z"
   },
   {
    "duration": 62,
    "start_time": "2024-08-01T07:44:32.353Z"
   },
   {
    "duration": 11,
    "start_time": "2024-08-01T07:44:32.419Z"
   },
   {
    "duration": 23,
    "start_time": "2024-08-01T07:44:32.432Z"
   },
   {
    "duration": 56,
    "start_time": "2024-08-01T07:44:32.457Z"
   },
   {
    "duration": 335,
    "start_time": "2024-08-01T07:44:32.516Z"
   },
   {
    "duration": 9,
    "start_time": "2024-08-01T07:44:32.855Z"
   },
   {
    "duration": 406,
    "start_time": "2024-08-01T07:44:32.867Z"
   },
   {
    "duration": 12,
    "start_time": "2024-08-01T07:44:33.275Z"
   },
   {
    "duration": 7,
    "start_time": "2024-08-01T07:54:24.795Z"
   },
   {
    "duration": 8,
    "start_time": "2024-08-01T07:59:45.224Z"
   },
   {
    "duration": 307,
    "start_time": "2024-08-02T02:56:19.751Z"
   },
   {
    "duration": 5120,
    "start_time": "2024-08-02T02:56:25.455Z"
   },
   {
    "duration": 28,
    "start_time": "2024-08-02T02:56:30.584Z"
   },
   {
    "duration": 30,
    "start_time": "2024-08-02T02:56:30.615Z"
   },
   {
    "duration": 15,
    "start_time": "2024-08-02T02:56:30.649Z"
   },
   {
    "duration": 16,
    "start_time": "2024-08-02T02:56:30.668Z"
   },
   {
    "duration": 54,
    "start_time": "2024-08-02T02:56:30.688Z"
   },
   {
    "duration": 38,
    "start_time": "2024-08-02T02:56:30.746Z"
   },
   {
    "duration": 19,
    "start_time": "2024-08-02T02:56:30.788Z"
   },
   {
    "duration": 24,
    "start_time": "2024-08-02T02:56:30.811Z"
   },
   {
    "duration": 8,
    "start_time": "2024-08-02T02:56:30.842Z"
   },
   {
    "duration": 11,
    "start_time": "2024-08-02T02:56:30.853Z"
   },
   {
    "duration": 22,
    "start_time": "2024-08-02T02:56:30.868Z"
   },
   {
    "duration": 9,
    "start_time": "2024-08-02T02:56:30.933Z"
   },
   {
    "duration": 14,
    "start_time": "2024-08-02T02:56:30.945Z"
   },
   {
    "duration": 8,
    "start_time": "2024-08-02T02:56:30.963Z"
   },
   {
    "duration": 56,
    "start_time": "2024-08-02T02:56:30.976Z"
   },
   {
    "duration": 26,
    "start_time": "2024-08-02T02:56:31.034Z"
   },
   {
    "duration": 11,
    "start_time": "2024-08-02T02:56:31.062Z"
   },
   {
    "duration": 62,
    "start_time": "2024-08-02T02:56:31.076Z"
   },
   {
    "duration": 7,
    "start_time": "2024-08-02T02:56:31.142Z"
   },
   {
    "duration": 348,
    "start_time": "2024-08-02T02:56:31.153Z"
   },
   {
    "duration": 11,
    "start_time": "2024-08-02T02:56:31.505Z"
   },
   {
    "duration": 385,
    "start_time": "2024-08-02T02:56:31.530Z"
   },
   {
    "duration": 17,
    "start_time": "2024-08-02T02:56:31.919Z"
   },
   {
    "duration": 7,
    "start_time": "2024-08-02T02:56:31.939Z"
   },
   {
    "duration": 7,
    "start_time": "2024-08-02T02:57:27.094Z"
   },
   {
    "duration": 19,
    "start_time": "2024-08-02T02:57:34.373Z"
   },
   {
    "duration": 10,
    "start_time": "2024-08-02T02:58:07.879Z"
   },
   {
    "duration": 10,
    "start_time": "2024-08-02T02:58:23.596Z"
   },
   {
    "duration": 15,
    "start_time": "2024-08-02T02:58:33.263Z"
   },
   {
    "duration": 15,
    "start_time": "2024-08-02T03:00:42.299Z"
   },
   {
    "duration": 12,
    "start_time": "2024-08-02T03:03:24.130Z"
   },
   {
    "duration": 10,
    "start_time": "2024-08-02T03:03:51.664Z"
   },
   {
    "duration": 9,
    "start_time": "2024-08-02T03:04:55.844Z"
   },
   {
    "duration": 6,
    "start_time": "2024-08-02T03:06:23.453Z"
   },
   {
    "duration": 9,
    "start_time": "2024-08-02T03:08:22.668Z"
   },
   {
    "duration": 6,
    "start_time": "2024-08-02T03:11:17.103Z"
   },
   {
    "duration": 7,
    "start_time": "2024-08-02T03:34:29.215Z"
   },
   {
    "duration": 8,
    "start_time": "2024-08-02T03:37:24.113Z"
   },
   {
    "duration": 8,
    "start_time": "2024-08-02T03:37:49.402Z"
   },
   {
    "duration": 9,
    "start_time": "2024-08-02T03:44:28.817Z"
   },
   {
    "duration": 9,
    "start_time": "2024-08-02T04:13:41.480Z"
   },
   {
    "duration": 1216,
    "start_time": "2024-08-02T04:39:19.468Z"
   },
   {
    "duration": 17,
    "start_time": "2024-08-02T04:39:20.688Z"
   },
   {
    "duration": 28,
    "start_time": "2024-08-02T04:39:20.708Z"
   },
   {
    "duration": 13,
    "start_time": "2024-08-02T04:39:20.739Z"
   },
   {
    "duration": 14,
    "start_time": "2024-08-02T04:39:20.756Z"
   },
   {
    "duration": 11,
    "start_time": "2024-08-02T04:39:20.773Z"
   },
   {
    "duration": 55,
    "start_time": "2024-08-02T04:39:20.787Z"
   },
   {
    "duration": 12,
    "start_time": "2024-08-02T04:39:20.845Z"
   },
   {
    "duration": 9,
    "start_time": "2024-08-02T04:39:20.861Z"
   },
   {
    "duration": 7,
    "start_time": "2024-08-02T04:39:20.873Z"
   },
   {
    "duration": 54,
    "start_time": "2024-08-02T04:39:20.883Z"
   },
   {
    "duration": 17,
    "start_time": "2024-08-02T04:39:20.939Z"
   },
   {
    "duration": 8,
    "start_time": "2024-08-02T04:39:20.959Z"
   },
   {
    "duration": 9,
    "start_time": "2024-08-02T04:39:20.973Z"
   },
   {
    "duration": 54,
    "start_time": "2024-08-02T04:39:20.984Z"
   },
   {
    "duration": 21,
    "start_time": "2024-08-02T04:39:21.041Z"
   },
   {
    "duration": 24,
    "start_time": "2024-08-02T04:39:21.065Z"
   },
   {
    "duration": 12,
    "start_time": "2024-08-02T04:39:21.131Z"
   },
   {
    "duration": 22,
    "start_time": "2024-08-02T04:39:21.145Z"
   },
   {
    "duration": 9,
    "start_time": "2024-08-02T04:39:21.170Z"
   },
   {
    "duration": 366,
    "start_time": "2024-08-02T04:39:21.182Z"
   },
   {
    "duration": 9,
    "start_time": "2024-08-02T04:39:21.551Z"
   },
   {
    "duration": 403,
    "start_time": "2024-08-02T04:39:21.564Z"
   },
   {
    "duration": 9,
    "start_time": "2024-08-02T04:39:21.970Z"
   },
   {
    "duration": 7,
    "start_time": "2024-08-02T04:39:21.983Z"
   },
   {
    "duration": 8,
    "start_time": "2024-08-02T04:39:21.993Z"
   },
   {
    "duration": 35,
    "start_time": "2024-08-02T04:39:22.004Z"
   },
   {
    "duration": 1265,
    "start_time": "2024-08-02T05:34:32.619Z"
   },
   {
    "duration": 18,
    "start_time": "2024-08-02T05:34:33.887Z"
   },
   {
    "duration": 26,
    "start_time": "2024-08-02T05:34:33.907Z"
   },
   {
    "duration": 14,
    "start_time": "2024-08-02T05:34:33.938Z"
   },
   {
    "duration": 13,
    "start_time": "2024-08-02T05:34:33.955Z"
   },
   {
    "duration": 10,
    "start_time": "2024-08-02T05:34:33.971Z"
   },
   {
    "duration": 13,
    "start_time": "2024-08-02T05:34:34.030Z"
   },
   {
    "duration": 10,
    "start_time": "2024-08-02T05:34:34.047Z"
   },
   {
    "duration": 7,
    "start_time": "2024-08-02T05:34:34.062Z"
   },
   {
    "duration": 6,
    "start_time": "2024-08-02T05:34:34.075Z"
   },
   {
    "duration": 51,
    "start_time": "2024-08-02T05:34:34.084Z"
   },
   {
    "duration": 18,
    "start_time": "2024-08-02T05:34:34.138Z"
   },
   {
    "duration": 8,
    "start_time": "2024-08-02T05:34:34.159Z"
   },
   {
    "duration": 8,
    "start_time": "2024-08-02T05:34:34.170Z"
   },
   {
    "duration": 53,
    "start_time": "2024-08-02T05:34:34.181Z"
   },
   {
    "duration": 22,
    "start_time": "2024-08-02T05:34:34.237Z"
   },
   {
    "duration": 25,
    "start_time": "2024-08-02T05:34:34.262Z"
   },
   {
    "duration": 51,
    "start_time": "2024-08-02T05:34:34.289Z"
   },
   {
    "duration": 26,
    "start_time": "2024-08-02T05:34:34.343Z"
   },
   {
    "duration": 9,
    "start_time": "2024-08-02T05:34:34.371Z"
   },
   {
    "duration": 366,
    "start_time": "2024-08-02T05:34:34.383Z"
   },
   {
    "duration": 10,
    "start_time": "2024-08-02T05:34:34.753Z"
   },
   {
    "duration": 400,
    "start_time": "2024-08-02T05:34:34.767Z"
   },
   {
    "duration": 10,
    "start_time": "2024-08-02T05:34:35.170Z"
   },
   {
    "duration": 6,
    "start_time": "2024-08-02T05:34:35.183Z"
   },
   {
    "duration": 9,
    "start_time": "2024-08-02T05:34:35.192Z"
   },
   {
    "duration": 26,
    "start_time": "2024-08-02T05:34:35.204Z"
   },
   {
    "duration": 1264,
    "start_time": "2024-08-02T06:00:19.409Z"
   },
   {
    "duration": 18,
    "start_time": "2024-08-02T06:00:20.676Z"
   },
   {
    "duration": 35,
    "start_time": "2024-08-02T06:00:20.696Z"
   },
   {
    "duration": 13,
    "start_time": "2024-08-02T06:00:20.736Z"
   },
   {
    "duration": 13,
    "start_time": "2024-08-02T06:00:20.752Z"
   },
   {
    "duration": 11,
    "start_time": "2024-08-02T06:00:20.769Z"
   },
   {
    "duration": 58,
    "start_time": "2024-08-02T06:00:20.783Z"
   },
   {
    "duration": 11,
    "start_time": "2024-08-02T06:00:20.846Z"
   },
   {
    "duration": 7,
    "start_time": "2024-08-02T06:00:20.860Z"
   },
   {
    "duration": 7,
    "start_time": "2024-08-02T06:00:20.873Z"
   },
   {
    "duration": 53,
    "start_time": "2024-08-02T06:00:20.883Z"
   },
   {
    "duration": 17,
    "start_time": "2024-08-02T06:00:20.940Z"
   },
   {
    "duration": 9,
    "start_time": "2024-08-02T06:00:20.959Z"
   },
   {
    "duration": 7,
    "start_time": "2024-08-02T06:00:20.972Z"
   },
   {
    "duration": 51,
    "start_time": "2024-08-02T06:00:20.983Z"
   },
   {
    "duration": 22,
    "start_time": "2024-08-02T06:00:21.037Z"
   },
   {
    "duration": 24,
    "start_time": "2024-08-02T06:00:21.062Z"
   },
   {
    "duration": 47,
    "start_time": "2024-08-02T06:00:21.089Z"
   },
   {
    "duration": 23,
    "start_time": "2024-08-02T06:00:21.139Z"
   },
   {
    "duration": 9,
    "start_time": "2024-08-02T06:00:21.165Z"
   },
   {
    "duration": 364,
    "start_time": "2024-08-02T06:00:21.178Z"
   },
   {
    "duration": 10,
    "start_time": "2024-08-02T06:00:21.545Z"
   },
   {
    "duration": 405,
    "start_time": "2024-08-02T06:00:21.558Z"
   },
   {
    "duration": 10,
    "start_time": "2024-08-02T06:00:21.966Z"
   },
   {
    "duration": 7,
    "start_time": "2024-08-02T06:00:21.979Z"
   },
   {
    "duration": 7,
    "start_time": "2024-08-02T06:00:21.988Z"
   },
   {
    "duration": 42,
    "start_time": "2024-08-02T06:00:22.000Z"
   },
   {
    "duration": 1242,
    "start_time": "2024-08-02T07:14:18.939Z"
   },
   {
    "duration": 18,
    "start_time": "2024-08-02T07:14:20.184Z"
   },
   {
    "duration": 15,
    "start_time": "2024-08-02T07:14:20.204Z"
   },
   {
    "duration": 15,
    "start_time": "2024-08-02T07:14:20.232Z"
   },
   {
    "duration": 17,
    "start_time": "2024-08-02T07:14:20.254Z"
   },
   {
    "duration": 11,
    "start_time": "2024-08-02T07:14:20.275Z"
   },
   {
    "duration": 14,
    "start_time": "2024-08-02T07:14:20.332Z"
   },
   {
    "duration": 12,
    "start_time": "2024-08-02T07:14:20.349Z"
   },
   {
    "duration": 8,
    "start_time": "2024-08-02T07:14:20.363Z"
   },
   {
    "duration": 7,
    "start_time": "2024-08-02T07:14:20.374Z"
   },
   {
    "duration": 51,
    "start_time": "2024-08-02T07:14:20.386Z"
   },
   {
    "duration": 21,
    "start_time": "2024-08-02T07:14:20.439Z"
   },
   {
    "duration": 8,
    "start_time": "2024-08-02T07:14:20.463Z"
   },
   {
    "duration": 54,
    "start_time": "2024-08-02T07:14:20.479Z"
   },
   {
    "duration": 9,
    "start_time": "2024-08-02T07:14:20.536Z"
   },
   {
    "duration": 21,
    "start_time": "2024-08-02T07:14:20.547Z"
   },
   {
    "duration": 63,
    "start_time": "2024-08-02T07:14:20.571Z"
   },
   {
    "duration": 14,
    "start_time": "2024-08-02T07:14:20.637Z"
   },
   {
    "duration": 21,
    "start_time": "2024-08-02T07:14:20.654Z"
   },
   {
    "duration": 8,
    "start_time": "2024-08-02T07:14:20.678Z"
   },
   {
    "duration": 365,
    "start_time": "2024-08-02T07:14:20.690Z"
   },
   {
    "duration": 11,
    "start_time": "2024-08-02T07:14:21.058Z"
   },
   {
    "duration": 379,
    "start_time": "2024-08-02T07:14:21.073Z"
   },
   {
    "duration": 9,
    "start_time": "2024-08-02T07:14:21.455Z"
   },
   {
    "duration": 8,
    "start_time": "2024-08-02T07:14:21.467Z"
   },
   {
    "duration": 7,
    "start_time": "2024-08-02T07:14:21.478Z"
   },
   {
    "duration": 40,
    "start_time": "2024-08-02T07:14:21.490Z"
   }
  ],
  "kernelspec": {
   "display_name": "Python 3 (ipykernel)",
   "language": "python",
   "name": "python3"
  },
  "language_info": {
   "codemirror_mode": {
    "name": "ipython",
    "version": 3
   },
   "file_extension": ".py",
   "mimetype": "text/x-python",
   "name": "python",
   "nbconvert_exporter": "python",
   "pygments_lexer": "ipython3",
   "version": "3.9.19"
  },
  "toc": {
   "base_numbering": 1,
   "nav_menu": {},
   "number_sections": true,
   "sideBar": true,
   "skip_h1_title": true,
   "title_cell": "Table of Contents",
   "title_sidebar": "Contents",
   "toc_cell": false,
   "toc_position": {
    "height": "calc(100% - 180px)",
    "left": "10px",
    "top": "150px",
    "width": "553px"
   },
   "toc_section_display": true,
   "toc_window_display": true
  }
 },
 "nbformat": 4,
 "nbformat_minor": 2
}
